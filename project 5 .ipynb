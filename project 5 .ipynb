{
 "cells": [
  {
   "cell_type": "markdown",
   "id": "31b5ba1c",
   "metadata": {},
   "source": [
    "# Boost revenue"
   ]
  },
  {
   "cell_type": "markdown",
   "id": "05794698",
   "metadata": {},
   "source": [
    "I am an analyst at a big online store. Together with the marketing department, I have compiled a list of hypotheses that may help boost revenue.  \n",
    "I need to prioritize these hypotheses, launch an A/B test, and analyze the results."
   ]
  },
  {
   "cell_type": "markdown",
   "id": "4e6a21fa",
   "metadata": {},
   "source": [
    "To do so, I have to:\n",
    "1. Inspect the data for any impurities, missing values,parameters that need to be changed.\n",
    "1. Fix the problems with the data.\n",
    "1. Prioritize hypotheses.\n",
    "1. Analyze the A/B test for the hypotheses."
   ]
  },
  {
   "cell_type": "code",
   "execution_count": 135,
   "id": "cff48395",
   "metadata": {},
   "outputs": [],
   "source": [
    "import pandas as pd                                           \n",
    "import numpy as np\n",
    "import datetime as dt \n",
    "import matplotlib.pyplot as plt\n",
    "from scipy import stats as st\n",
    "import seaborn as sns\n",
    "import plotly.express as px"
   ]
  },
  {
   "cell_type": "code",
   "execution_count": 136,
   "id": "66619846",
   "metadata": {},
   "outputs": [],
   "source": [
    "try:\n",
    "    hypotheses_df = pd.read_csv('hypotheses_us.csv')\n",
    "except:\n",
    "    hypotheses_df = pd.read_csv('/datasets/hypotheses_us.csv')\n",
    "\n",
    "try:\n",
    "    orders_df = pd.read_csv('orders_us.csv')\n",
    "except:\n",
    "    orders_df = pd.read_csv('/datasets/orders_us.csv')\n",
    "    \n",
    "try:\n",
    "    visits_df = pd.read_csv('visits_us.csv')\n",
    "except:\n",
    "    visits_df = pd.read_csv('/datasets/visits_us.csv')"
   ]
  },
  {
   "cell_type": "markdown",
   "id": "b28ed5b3",
   "metadata": {},
   "source": [
    "# Pre-process the data"
   ]
  },
  {
   "cell_type": "markdown",
   "id": "37600df0",
   "metadata": {},
   "source": [
    "## Data inspection"
   ]
  },
  {
   "cell_type": "markdown",
   "id": "8022c708",
   "metadata": {},
   "source": [
    "First, using the info() method, will check if the columns contain missing values, if there are data types that need to change, and if generally there is something strange in the data."
   ]
  },
  {
   "cell_type": "code",
   "execution_count": 137,
   "id": "2c6d11bd",
   "metadata": {},
   "outputs": [
    {
     "name": "stdout",
     "output_type": "stream",
     "text": [
      "<class 'pandas.core.frame.DataFrame'>\n",
      "RangeIndex: 9 entries, 0 to 8\n",
      "Data columns (total 1 columns):\n",
      " #   Column                                     Non-Null Count  Dtype \n",
      "---  ------                                     --------------  ----- \n",
      " 0   Hypothesis;Reach;Impact;Confidence;Effort  9 non-null      object\n",
      "dtypes: object(1)\n",
      "memory usage: 200.0+ bytes\n",
      "None\n",
      "<class 'pandas.core.frame.DataFrame'>\n",
      "RangeIndex: 1197 entries, 0 to 1196\n",
      "Data columns (total 5 columns):\n",
      " #   Column         Non-Null Count  Dtype  \n",
      "---  ------         --------------  -----  \n",
      " 0   transactionId  1197 non-null   int64  \n",
      " 1   visitorId      1197 non-null   int64  \n",
      " 2   date           1197 non-null   object \n",
      " 3   revenue        1197 non-null   float64\n",
      " 4   group          1197 non-null   object \n",
      "dtypes: float64(1), int64(2), object(2)\n",
      "memory usage: 46.9+ KB\n",
      "None\n",
      "<class 'pandas.core.frame.DataFrame'>\n",
      "RangeIndex: 62 entries, 0 to 61\n",
      "Data columns (total 3 columns):\n",
      " #   Column  Non-Null Count  Dtype \n",
      "---  ------  --------------  ----- \n",
      " 0   date    62 non-null     object\n",
      " 1   group   62 non-null     object\n",
      " 2   visits  62 non-null     int64 \n",
      "dtypes: int64(1), object(2)\n",
      "memory usage: 1.6+ KB\n"
     ]
    }
   ],
   "source": [
    "print(hypotheses_df.info())\n",
    "print(orders_df.info())\n",
    "visits_df.info()"
   ]
  },
  {
   "cell_type": "markdown",
   "id": "b61530f9",
   "metadata": {},
   "source": [
    "In the hypothesis columns I don't really get what I am seeing.  \n",
    "In the orders columns the date column needs to be changed to datetime, and I think I can change the group column to category.  \n",
    "In the visits columns, the same thing as in the orders table."
   ]
  },
  {
   "cell_type": "markdown",
   "id": "37573b25",
   "metadata": {},
   "source": [
    "To understand the data better, I will print the rows of the tables."
   ]
  },
  {
   "cell_type": "code",
   "execution_count": 138,
   "id": "f0f0c6ef",
   "metadata": {},
   "outputs": [
    {
     "data": {
      "text/html": [
       "<div>\n",
       "<style scoped>\n",
       "    .dataframe tbody tr th:only-of-type {\n",
       "        vertical-align: middle;\n",
       "    }\n",
       "\n",
       "    .dataframe tbody tr th {\n",
       "        vertical-align: top;\n",
       "    }\n",
       "\n",
       "    .dataframe thead th {\n",
       "        text-align: right;\n",
       "    }\n",
       "</style>\n",
       "<table border=\"1\" class=\"dataframe\">\n",
       "  <thead>\n",
       "    <tr style=\"text-align: right;\">\n",
       "      <th></th>\n",
       "      <th>Hypothesis;Reach;Impact;Confidence;Effort</th>\n",
       "    </tr>\n",
       "  </thead>\n",
       "  <tbody>\n",
       "    <tr>\n",
       "      <th>0</th>\n",
       "      <td>Add two new channels for attracting traffic. This will bring 30% more users;3;10;8;6</td>\n",
       "    </tr>\n",
       "    <tr>\n",
       "      <th>1</th>\n",
       "      <td>Launch your own delivery service. This will shorten delivery time;2;5;4;10</td>\n",
       "    </tr>\n",
       "    <tr>\n",
       "      <th>2</th>\n",
       "      <td>Add product recommendation blocks to the store's site. This will increase conversion and average purchase size;8;3;7;3</td>\n",
       "    </tr>\n",
       "    <tr>\n",
       "      <th>3</th>\n",
       "      <td>Change the category structure. This will increase conversion since users will find the products they want more quickly;8;3;3;8</td>\n",
       "    </tr>\n",
       "    <tr>\n",
       "      <th>4</th>\n",
       "      <td>Change the background color on the main page. This will increase user engagement;3;1;1;1</td>\n",
       "    </tr>\n",
       "    <tr>\n",
       "      <th>5</th>\n",
       "      <td>Add a customer review page. This will increase the number of orders;3;2;2;3</td>\n",
       "    </tr>\n",
       "    <tr>\n",
       "      <th>6</th>\n",
       "      <td>Show banners with current offers and sales on the main page. This will boost conversion;5;3;8;3</td>\n",
       "    </tr>\n",
       "    <tr>\n",
       "      <th>7</th>\n",
       "      <td>Add a subscription form to all the main pages. This will help you compile a mailing list;10;7;8;5</td>\n",
       "    </tr>\n",
       "    <tr>\n",
       "      <th>8</th>\n",
       "      <td>Launch a promotion that gives users discounts on their birthdays;1;9;9;5</td>\n",
       "    </tr>\n",
       "  </tbody>\n",
       "</table>\n",
       "</div>"
      ],
      "text/plain": [
       "                                                                                        Hypothesis;Reach;Impact;Confidence;Effort\n",
       "0                                            Add two new channels for attracting traffic. This will bring 30% more users;3;10;8;6\n",
       "1                                                      Launch your own delivery service. This will shorten delivery time;2;5;4;10\n",
       "2          Add product recommendation blocks to the store's site. This will increase conversion and average purchase size;8;3;7;3\n",
       "3  Change the category structure. This will increase conversion since users will find the products they want more quickly;8;3;3;8\n",
       "4                                        Change the background color on the main page. This will increase user engagement;3;1;1;1\n",
       "5                                                     Add a customer review page. This will increase the number of orders;3;2;2;3\n",
       "6                                 Show banners with current offers and sales on the main page. This will boost conversion;5;3;8;3\n",
       "7                               Add a subscription form to all the main pages. This will help you compile a mailing list;10;7;8;5\n",
       "8                                                        Launch a promotion that gives users discounts on their birthdays;1;9;9;5"
      ]
     },
     "execution_count": 138,
     "metadata": {},
     "output_type": "execute_result"
    }
   ],
   "source": [
    "hypotheses_df.head(10)"
   ]
  },
  {
   "cell_type": "code",
   "execution_count": 139,
   "id": "e49b24de",
   "metadata": {},
   "outputs": [
    {
     "data": {
      "text/plain": [
       "'Add two new channels for attracting traffic. This will bring 30% more users;3;10;8;6'"
      ]
     },
     "execution_count": 139,
     "metadata": {},
     "output_type": "execute_result"
    }
   ],
   "source": [
    "hypotheses_df['Hypothesis;Reach;Impact;Confidence;Effort'][0]"
   ]
  },
  {
   "cell_type": "markdown",
   "id": "29a4e555",
   "metadata": {},
   "source": [
    "Seems like all the columns in hypothesis table are merged together.  \n",
    "It also seems that the columns contain upper case letters."
   ]
  },
  {
   "cell_type": "code",
   "execution_count": 140,
   "id": "b2feaa62",
   "metadata": {},
   "outputs": [
    {
     "data": {
      "text/html": [
       "<div>\n",
       "<style scoped>\n",
       "    .dataframe tbody tr th:only-of-type {\n",
       "        vertical-align: middle;\n",
       "    }\n",
       "\n",
       "    .dataframe tbody tr th {\n",
       "        vertical-align: top;\n",
       "    }\n",
       "\n",
       "    .dataframe thead th {\n",
       "        text-align: right;\n",
       "    }\n",
       "</style>\n",
       "<table border=\"1\" class=\"dataframe\">\n",
       "  <thead>\n",
       "    <tr style=\"text-align: right;\">\n",
       "      <th></th>\n",
       "      <th>transactionId</th>\n",
       "      <th>visitorId</th>\n",
       "      <th>date</th>\n",
       "      <th>revenue</th>\n",
       "      <th>group</th>\n",
       "    </tr>\n",
       "  </thead>\n",
       "  <tbody>\n",
       "    <tr>\n",
       "      <th>0</th>\n",
       "      <td>3667963787</td>\n",
       "      <td>3312258926</td>\n",
       "      <td>2019-08-15</td>\n",
       "      <td>30.4</td>\n",
       "      <td>B</td>\n",
       "    </tr>\n",
       "    <tr>\n",
       "      <th>1</th>\n",
       "      <td>2804400009</td>\n",
       "      <td>3642806036</td>\n",
       "      <td>2019-08-15</td>\n",
       "      <td>15.2</td>\n",
       "      <td>B</td>\n",
       "    </tr>\n",
       "    <tr>\n",
       "      <th>2</th>\n",
       "      <td>2961555356</td>\n",
       "      <td>4069496402</td>\n",
       "      <td>2019-08-15</td>\n",
       "      <td>10.2</td>\n",
       "      <td>A</td>\n",
       "    </tr>\n",
       "    <tr>\n",
       "      <th>3</th>\n",
       "      <td>3797467345</td>\n",
       "      <td>1196621759</td>\n",
       "      <td>2019-08-15</td>\n",
       "      <td>155.1</td>\n",
       "      <td>B</td>\n",
       "    </tr>\n",
       "    <tr>\n",
       "      <th>4</th>\n",
       "      <td>2282983706</td>\n",
       "      <td>2322279887</td>\n",
       "      <td>2019-08-15</td>\n",
       "      <td>40.5</td>\n",
       "      <td>B</td>\n",
       "    </tr>\n",
       "    <tr>\n",
       "      <th>5</th>\n",
       "      <td>182168103</td>\n",
       "      <td>935554773</td>\n",
       "      <td>2019-08-15</td>\n",
       "      <td>35.0</td>\n",
       "      <td>B</td>\n",
       "    </tr>\n",
       "    <tr>\n",
       "      <th>6</th>\n",
       "      <td>398296753</td>\n",
       "      <td>2900797465</td>\n",
       "      <td>2019-08-15</td>\n",
       "      <td>30.6</td>\n",
       "      <td>B</td>\n",
       "    </tr>\n",
       "    <tr>\n",
       "      <th>7</th>\n",
       "      <td>2626614568</td>\n",
       "      <td>78758296</td>\n",
       "      <td>2019-08-15</td>\n",
       "      <td>20.1</td>\n",
       "      <td>A</td>\n",
       "    </tr>\n",
       "    <tr>\n",
       "      <th>8</th>\n",
       "      <td>1576988021</td>\n",
       "      <td>295230930</td>\n",
       "      <td>2019-08-15</td>\n",
       "      <td>215.9</td>\n",
       "      <td>A</td>\n",
       "    </tr>\n",
       "    <tr>\n",
       "      <th>9</th>\n",
       "      <td>1506739906</td>\n",
       "      <td>1882260405</td>\n",
       "      <td>2019-08-15</td>\n",
       "      <td>30.5</td>\n",
       "      <td>B</td>\n",
       "    </tr>\n",
       "  </tbody>\n",
       "</table>\n",
       "</div>"
      ],
      "text/plain": [
       "   transactionId   visitorId        date  revenue group\n",
       "0     3667963787  3312258926  2019-08-15     30.4     B\n",
       "1     2804400009  3642806036  2019-08-15     15.2     B\n",
       "2     2961555356  4069496402  2019-08-15     10.2     A\n",
       "3     3797467345  1196621759  2019-08-15    155.1     B\n",
       "4     2282983706  2322279887  2019-08-15     40.5     B\n",
       "5      182168103   935554773  2019-08-15     35.0     B\n",
       "6      398296753  2900797465  2019-08-15     30.6     B\n",
       "7     2626614568    78758296  2019-08-15     20.1     A\n",
       "8     1576988021   295230930  2019-08-15    215.9     A\n",
       "9     1506739906  1882260405  2019-08-15     30.5     B"
      ]
     },
     "execution_count": 140,
     "metadata": {},
     "output_type": "execute_result"
    }
   ],
   "source": [
    "orders_df.head(10)"
   ]
  },
  {
   "cell_type": "code",
   "execution_count": 141,
   "id": "d772ce9a",
   "metadata": {},
   "outputs": [
    {
     "data": {
      "text/html": [
       "<div>\n",
       "<style scoped>\n",
       "    .dataframe tbody tr th:only-of-type {\n",
       "        vertical-align: middle;\n",
       "    }\n",
       "\n",
       "    .dataframe tbody tr th {\n",
       "        vertical-align: top;\n",
       "    }\n",
       "\n",
       "    .dataframe thead th {\n",
       "        text-align: right;\n",
       "    }\n",
       "</style>\n",
       "<table border=\"1\" class=\"dataframe\">\n",
       "  <thead>\n",
       "    <tr style=\"text-align: right;\">\n",
       "      <th></th>\n",
       "      <th>date</th>\n",
       "      <th>group</th>\n",
       "      <th>visits</th>\n",
       "    </tr>\n",
       "  </thead>\n",
       "  <tbody>\n",
       "    <tr>\n",
       "      <th>0</th>\n",
       "      <td>2019-08-01</td>\n",
       "      <td>A</td>\n",
       "      <td>719</td>\n",
       "    </tr>\n",
       "    <tr>\n",
       "      <th>1</th>\n",
       "      <td>2019-08-02</td>\n",
       "      <td>A</td>\n",
       "      <td>619</td>\n",
       "    </tr>\n",
       "    <tr>\n",
       "      <th>2</th>\n",
       "      <td>2019-08-03</td>\n",
       "      <td>A</td>\n",
       "      <td>507</td>\n",
       "    </tr>\n",
       "    <tr>\n",
       "      <th>3</th>\n",
       "      <td>2019-08-04</td>\n",
       "      <td>A</td>\n",
       "      <td>717</td>\n",
       "    </tr>\n",
       "    <tr>\n",
       "      <th>4</th>\n",
       "      <td>2019-08-05</td>\n",
       "      <td>A</td>\n",
       "      <td>756</td>\n",
       "    </tr>\n",
       "    <tr>\n",
       "      <th>5</th>\n",
       "      <td>2019-08-06</td>\n",
       "      <td>A</td>\n",
       "      <td>667</td>\n",
       "    </tr>\n",
       "    <tr>\n",
       "      <th>6</th>\n",
       "      <td>2019-08-07</td>\n",
       "      <td>A</td>\n",
       "      <td>644</td>\n",
       "    </tr>\n",
       "    <tr>\n",
       "      <th>7</th>\n",
       "      <td>2019-08-08</td>\n",
       "      <td>A</td>\n",
       "      <td>610</td>\n",
       "    </tr>\n",
       "    <tr>\n",
       "      <th>8</th>\n",
       "      <td>2019-08-09</td>\n",
       "      <td>A</td>\n",
       "      <td>617</td>\n",
       "    </tr>\n",
       "    <tr>\n",
       "      <th>9</th>\n",
       "      <td>2019-08-10</td>\n",
       "      <td>A</td>\n",
       "      <td>406</td>\n",
       "    </tr>\n",
       "  </tbody>\n",
       "</table>\n",
       "</div>"
      ],
      "text/plain": [
       "         date group  visits\n",
       "0  2019-08-01     A     719\n",
       "1  2019-08-02     A     619\n",
       "2  2019-08-03     A     507\n",
       "3  2019-08-04     A     717\n",
       "4  2019-08-05     A     756\n",
       "5  2019-08-06     A     667\n",
       "6  2019-08-07     A     644\n",
       "7  2019-08-08     A     610\n",
       "8  2019-08-09     A     617\n",
       "9  2019-08-10     A     406"
      ]
     },
     "execution_count": 141,
     "metadata": {},
     "output_type": "execute_result"
    }
   ],
   "source": [
    "visits_df.head(10)"
   ]
  },
  {
   "cell_type": "markdown",
   "id": "66ea998a",
   "metadata": {},
   "source": [
    "Don't really see something out of the ordinary in orders and visits.  \n",
    "Lets see if some of the orders have 0 in revenue."
   ]
  },
  {
   "cell_type": "code",
   "execution_count": 142,
   "id": "b757e2e8",
   "metadata": {},
   "outputs": [
    {
     "data": {
      "text/html": [
       "<div>\n",
       "<style scoped>\n",
       "    .dataframe tbody tr th:only-of-type {\n",
       "        vertical-align: middle;\n",
       "    }\n",
       "\n",
       "    .dataframe tbody tr th {\n",
       "        vertical-align: top;\n",
       "    }\n",
       "\n",
       "    .dataframe thead th {\n",
       "        text-align: right;\n",
       "    }\n",
       "</style>\n",
       "<table border=\"1\" class=\"dataframe\">\n",
       "  <thead>\n",
       "    <tr style=\"text-align: right;\">\n",
       "      <th></th>\n",
       "      <th>transactionId</th>\n",
       "      <th>visitorId</th>\n",
       "      <th>date</th>\n",
       "      <th>revenue</th>\n",
       "      <th>group</th>\n",
       "    </tr>\n",
       "  </thead>\n",
       "  <tbody>\n",
       "  </tbody>\n",
       "</table>\n",
       "</div>"
      ],
      "text/plain": [
       "Empty DataFrame\n",
       "Columns: [transactionId, visitorId, date, revenue, group]\n",
       "Index: []"
      ]
     },
     "execution_count": 142,
     "metadata": {},
     "output_type": "execute_result"
    }
   ],
   "source": [
    "orders_df[orders_df['revenue'] == 0]"
   ]
  },
  {
   "cell_type": "markdown",
   "id": "4e4dd4a1",
   "metadata": {},
   "source": [
    "Seems that every order got payed for.  \n",
    "Lets check for duplicates in the orders and visitors tables."
   ]
  },
  {
   "cell_type": "code",
   "execution_count": 143,
   "id": "9b2e35a5",
   "metadata": {},
   "outputs": [
    {
     "data": {
      "text/html": [
       "<div>\n",
       "<style scoped>\n",
       "    .dataframe tbody tr th:only-of-type {\n",
       "        vertical-align: middle;\n",
       "    }\n",
       "\n",
       "    .dataframe tbody tr th {\n",
       "        vertical-align: top;\n",
       "    }\n",
       "\n",
       "    .dataframe thead th {\n",
       "        text-align: right;\n",
       "    }\n",
       "</style>\n",
       "<table border=\"1\" class=\"dataframe\">\n",
       "  <thead>\n",
       "    <tr style=\"text-align: right;\">\n",
       "      <th></th>\n",
       "      <th>date</th>\n",
       "      <th>group</th>\n",
       "      <th>visits</th>\n",
       "    </tr>\n",
       "  </thead>\n",
       "  <tbody>\n",
       "  </tbody>\n",
       "</table>\n",
       "</div>"
      ],
      "text/plain": [
       "Empty DataFrame\n",
       "Columns: [date, group, visits]\n",
       "Index: []"
      ]
     },
     "execution_count": 143,
     "metadata": {},
     "output_type": "execute_result"
    }
   ],
   "source": [
    "visits_df[visits_df.duplicated()]"
   ]
  },
  {
   "cell_type": "code",
   "execution_count": 144,
   "id": "985e4c05",
   "metadata": {},
   "outputs": [
    {
     "data": {
      "text/html": [
       "<div>\n",
       "<style scoped>\n",
       "    .dataframe tbody tr th:only-of-type {\n",
       "        vertical-align: middle;\n",
       "    }\n",
       "\n",
       "    .dataframe tbody tr th {\n",
       "        vertical-align: top;\n",
       "    }\n",
       "\n",
       "    .dataframe thead th {\n",
       "        text-align: right;\n",
       "    }\n",
       "</style>\n",
       "<table border=\"1\" class=\"dataframe\">\n",
       "  <thead>\n",
       "    <tr style=\"text-align: right;\">\n",
       "      <th></th>\n",
       "      <th>transactionId</th>\n",
       "      <th>visitorId</th>\n",
       "      <th>date</th>\n",
       "      <th>revenue</th>\n",
       "      <th>group</th>\n",
       "    </tr>\n",
       "  </thead>\n",
       "  <tbody>\n",
       "  </tbody>\n",
       "</table>\n",
       "</div>"
      ],
      "text/plain": [
       "Empty DataFrame\n",
       "Columns: [transactionId, visitorId, date, revenue, group]\n",
       "Index: []"
      ]
     },
     "execution_count": 144,
     "metadata": {},
     "output_type": "execute_result"
    }
   ],
   "source": [
    "orders_df[orders_df.duplicated()]"
   ]
  },
  {
   "cell_type": "markdown",
   "id": "8c8ad651",
   "metadata": {},
   "source": [
    "The data is clean from duplicates.  \n",
    "For the last one lets check if there are customers that appear in both groups.  \n",
    "To do that, I'll create a table that groups the number of unique groups by visitorsId.  \n",
    "Then I'll see if there are rows that contain two groups. "
   ]
  },
  {
   "cell_type": "code",
   "execution_count": 145,
   "id": "42201aa5",
   "metadata": {},
   "outputs": [
    {
     "data": {
      "text/plain": [
       "B    640\n",
       "A    557\n",
       "Name: group, dtype: int64"
      ]
     },
     "execution_count": 145,
     "metadata": {},
     "output_type": "execute_result"
    }
   ],
   "source": [
    "orders_df['group'].value_counts()"
   ]
  },
  {
   "cell_type": "code",
   "execution_count": 146,
   "id": "b09a62fa",
   "metadata": {},
   "outputs": [
    {
     "data": {
      "text/html": [
       "<div>\n",
       "<style scoped>\n",
       "    .dataframe tbody tr th:only-of-type {\n",
       "        vertical-align: middle;\n",
       "    }\n",
       "\n",
       "    .dataframe tbody tr th {\n",
       "        vertical-align: top;\n",
       "    }\n",
       "\n",
       "    .dataframe thead th {\n",
       "        text-align: right;\n",
       "    }\n",
       "</style>\n",
       "<table border=\"1\" class=\"dataframe\">\n",
       "  <thead>\n",
       "    <tr style=\"text-align: right;\">\n",
       "      <th></th>\n",
       "      <th>visitorId</th>\n",
       "      <th>group</th>\n",
       "    </tr>\n",
       "  </thead>\n",
       "  <tbody>\n",
       "    <tr>\n",
       "      <th>2</th>\n",
       "      <td>8300375</td>\n",
       "      <td>2</td>\n",
       "    </tr>\n",
       "    <tr>\n",
       "      <th>44</th>\n",
       "      <td>199603092</td>\n",
       "      <td>2</td>\n",
       "    </tr>\n",
       "    <tr>\n",
       "      <th>51</th>\n",
       "      <td>232979603</td>\n",
       "      <td>2</td>\n",
       "    </tr>\n",
       "    <tr>\n",
       "      <th>55</th>\n",
       "      <td>237748145</td>\n",
       "      <td>2</td>\n",
       "    </tr>\n",
       "    <tr>\n",
       "      <th>66</th>\n",
       "      <td>276558944</td>\n",
       "      <td>2</td>\n",
       "    </tr>\n",
       "    <tr>\n",
       "      <th>84</th>\n",
       "      <td>351125977</td>\n",
       "      <td>2</td>\n",
       "    </tr>\n",
       "    <tr>\n",
       "      <th>97</th>\n",
       "      <td>393266494</td>\n",
       "      <td>2</td>\n",
       "    </tr>\n",
       "    <tr>\n",
       "      <th>114</th>\n",
       "      <td>457167155</td>\n",
       "      <td>2</td>\n",
       "    </tr>\n",
       "    <tr>\n",
       "      <th>119</th>\n",
       "      <td>471551937</td>\n",
       "      <td>2</td>\n",
       "    </tr>\n",
       "    <tr>\n",
       "      <th>122</th>\n",
       "      <td>477780734</td>\n",
       "      <td>2</td>\n",
       "    </tr>\n",
       "    <tr>\n",
       "      <th>192</th>\n",
       "      <td>818047933</td>\n",
       "      <td>2</td>\n",
       "    </tr>\n",
       "    <tr>\n",
       "      <th>236</th>\n",
       "      <td>963407295</td>\n",
       "      <td>2</td>\n",
       "    </tr>\n",
       "    <tr>\n",
       "      <th>299</th>\n",
       "      <td>1230306981</td>\n",
       "      <td>2</td>\n",
       "    </tr>\n",
       "    <tr>\n",
       "      <th>311</th>\n",
       "      <td>1294878855</td>\n",
       "      <td>2</td>\n",
       "    </tr>\n",
       "    <tr>\n",
       "      <th>316</th>\n",
       "      <td>1316129916</td>\n",
       "      <td>2</td>\n",
       "    </tr>\n",
       "    <tr>\n",
       "      <th>318</th>\n",
       "      <td>1333886533</td>\n",
       "      <td>2</td>\n",
       "    </tr>\n",
       "    <tr>\n",
       "      <th>340</th>\n",
       "      <td>1404934699</td>\n",
       "      <td>2</td>\n",
       "    </tr>\n",
       "    <tr>\n",
       "      <th>386</th>\n",
       "      <td>1602967004</td>\n",
       "      <td>2</td>\n",
       "    </tr>\n",
       "    <tr>\n",
       "      <th>393</th>\n",
       "      <td>1614305549</td>\n",
       "      <td>2</td>\n",
       "    </tr>\n",
       "    <tr>\n",
       "      <th>402</th>\n",
       "      <td>1648269707</td>\n",
       "      <td>2</td>\n",
       "    </tr>\n",
       "    <tr>\n",
       "      <th>406</th>\n",
       "      <td>1668030113</td>\n",
       "      <td>2</td>\n",
       "    </tr>\n",
       "    <tr>\n",
       "      <th>422</th>\n",
       "      <td>1738359350</td>\n",
       "      <td>2</td>\n",
       "    </tr>\n",
       "    <tr>\n",
       "      <th>436</th>\n",
       "      <td>1801183820</td>\n",
       "      <td>2</td>\n",
       "    </tr>\n",
       "    <tr>\n",
       "      <th>469</th>\n",
       "      <td>1959144690</td>\n",
       "      <td>2</td>\n",
       "    </tr>\n",
       "    <tr>\n",
       "      <th>487</th>\n",
       "      <td>2038680547</td>\n",
       "      <td>2</td>\n",
       "    </tr>\n",
       "    <tr>\n",
       "      <th>491</th>\n",
       "      <td>2044997962</td>\n",
       "      <td>2</td>\n",
       "    </tr>\n",
       "    <tr>\n",
       "      <th>569</th>\n",
       "      <td>2378935119</td>\n",
       "      <td>2</td>\n",
       "    </tr>\n",
       "    <tr>\n",
       "      <th>591</th>\n",
       "      <td>2458001652</td>\n",
       "      <td>2</td>\n",
       "    </tr>\n",
       "    <tr>\n",
       "      <th>614</th>\n",
       "      <td>2579882178</td>\n",
       "      <td>2</td>\n",
       "    </tr>\n",
       "    <tr>\n",
       "      <th>619</th>\n",
       "      <td>2587333274</td>\n",
       "      <td>2</td>\n",
       "    </tr>\n",
       "    <tr>\n",
       "      <th>622</th>\n",
       "      <td>2600415354</td>\n",
       "      <td>2</td>\n",
       "    </tr>\n",
       "    <tr>\n",
       "      <th>639</th>\n",
       "      <td>2654030115</td>\n",
       "      <td>2</td>\n",
       "    </tr>\n",
       "    <tr>\n",
       "      <th>648</th>\n",
       "      <td>2686716486</td>\n",
       "      <td>2</td>\n",
       "    </tr>\n",
       "    <tr>\n",
       "      <th>661</th>\n",
       "      <td>2712142231</td>\n",
       "      <td>2</td>\n",
       "    </tr>\n",
       "    <tr>\n",
       "      <th>662</th>\n",
       "      <td>2716752286</td>\n",
       "      <td>2</td>\n",
       "    </tr>\n",
       "    <tr>\n",
       "      <th>677</th>\n",
       "      <td>2780786433</td>\n",
       "      <td>2</td>\n",
       "    </tr>\n",
       "    <tr>\n",
       "      <th>710</th>\n",
       "      <td>2927087541</td>\n",
       "      <td>2</td>\n",
       "    </tr>\n",
       "    <tr>\n",
       "      <th>715</th>\n",
       "      <td>2949041841</td>\n",
       "      <td>2</td>\n",
       "    </tr>\n",
       "    <tr>\n",
       "      <th>718</th>\n",
       "      <td>2954449915</td>\n",
       "      <td>2</td>\n",
       "    </tr>\n",
       "    <tr>\n",
       "      <th>744</th>\n",
       "      <td>3062433592</td>\n",
       "      <td>2</td>\n",
       "    </tr>\n",
       "    <tr>\n",
       "      <th>784</th>\n",
       "      <td>3202540741</td>\n",
       "      <td>2</td>\n",
       "    </tr>\n",
       "    <tr>\n",
       "      <th>792</th>\n",
       "      <td>3234906277</td>\n",
       "      <td>2</td>\n",
       "    </tr>\n",
       "    <tr>\n",
       "      <th>884</th>\n",
       "      <td>3656415546</td>\n",
       "      <td>2</td>\n",
       "    </tr>\n",
       "    <tr>\n",
       "      <th>897</th>\n",
       "      <td>3717692402</td>\n",
       "      <td>2</td>\n",
       "    </tr>\n",
       "    <tr>\n",
       "      <th>909</th>\n",
       "      <td>3766097110</td>\n",
       "      <td>2</td>\n",
       "    </tr>\n",
       "    <tr>\n",
       "      <th>917</th>\n",
       "      <td>3803269165</td>\n",
       "      <td>2</td>\n",
       "    </tr>\n",
       "    <tr>\n",
       "      <th>932</th>\n",
       "      <td>3891541246</td>\n",
       "      <td>2</td>\n",
       "    </tr>\n",
       "    <tr>\n",
       "      <th>950</th>\n",
       "      <td>3941795274</td>\n",
       "      <td>2</td>\n",
       "    </tr>\n",
       "    <tr>\n",
       "      <th>954</th>\n",
       "      <td>3951559397</td>\n",
       "      <td>2</td>\n",
       "    </tr>\n",
       "    <tr>\n",
       "      <th>957</th>\n",
       "      <td>3957174400</td>\n",
       "      <td>2</td>\n",
       "    </tr>\n",
       "    <tr>\n",
       "      <th>958</th>\n",
       "      <td>3963646447</td>\n",
       "      <td>2</td>\n",
       "    </tr>\n",
       "    <tr>\n",
       "      <th>960</th>\n",
       "      <td>3972127743</td>\n",
       "      <td>2</td>\n",
       "    </tr>\n",
       "    <tr>\n",
       "      <th>963</th>\n",
       "      <td>3984495233</td>\n",
       "      <td>2</td>\n",
       "    </tr>\n",
       "    <tr>\n",
       "      <th>984</th>\n",
       "      <td>4069496402</td>\n",
       "      <td>2</td>\n",
       "    </tr>\n",
       "    <tr>\n",
       "      <th>992</th>\n",
       "      <td>4120364173</td>\n",
       "      <td>2</td>\n",
       "    </tr>\n",
       "    <tr>\n",
       "      <th>1009</th>\n",
       "      <td>4186807279</td>\n",
       "      <td>2</td>\n",
       "    </tr>\n",
       "    <tr>\n",
       "      <th>1023</th>\n",
       "      <td>4256040402</td>\n",
       "      <td>2</td>\n",
       "    </tr>\n",
       "    <tr>\n",
       "      <th>1026</th>\n",
       "      <td>4266935830</td>\n",
       "      <td>2</td>\n",
       "    </tr>\n",
       "  </tbody>\n",
       "</table>\n",
       "</div>"
      ],
      "text/plain": [
       "       visitorId  group\n",
       "2        8300375      2\n",
       "44     199603092      2\n",
       "51     232979603      2\n",
       "55     237748145      2\n",
       "66     276558944      2\n",
       "84     351125977      2\n",
       "97     393266494      2\n",
       "114    457167155      2\n",
       "119    471551937      2\n",
       "122    477780734      2\n",
       "192    818047933      2\n",
       "236    963407295      2\n",
       "299   1230306981      2\n",
       "311   1294878855      2\n",
       "316   1316129916      2\n",
       "318   1333886533      2\n",
       "340   1404934699      2\n",
       "386   1602967004      2\n",
       "393   1614305549      2\n",
       "402   1648269707      2\n",
       "406   1668030113      2\n",
       "422   1738359350      2\n",
       "436   1801183820      2\n",
       "469   1959144690      2\n",
       "487   2038680547      2\n",
       "491   2044997962      2\n",
       "569   2378935119      2\n",
       "591   2458001652      2\n",
       "614   2579882178      2\n",
       "619   2587333274      2\n",
       "622   2600415354      2\n",
       "639   2654030115      2\n",
       "648   2686716486      2\n",
       "661   2712142231      2\n",
       "662   2716752286      2\n",
       "677   2780786433      2\n",
       "710   2927087541      2\n",
       "715   2949041841      2\n",
       "718   2954449915      2\n",
       "744   3062433592      2\n",
       "784   3202540741      2\n",
       "792   3234906277      2\n",
       "884   3656415546      2\n",
       "897   3717692402      2\n",
       "909   3766097110      2\n",
       "917   3803269165      2\n",
       "932   3891541246      2\n",
       "950   3941795274      2\n",
       "954   3951559397      2\n",
       "957   3957174400      2\n",
       "958   3963646447      2\n",
       "960   3972127743      2\n",
       "963   3984495233      2\n",
       "984   4069496402      2\n",
       "992   4120364173      2\n",
       "1009  4186807279      2\n",
       "1023  4256040402      2\n",
       "1026  4266935830      2"
      ]
     },
     "execution_count": 146,
     "metadata": {},
     "output_type": "execute_result"
    }
   ],
   "source": [
    "two_gorups_check = orders_df.groupby('visitorId', as_index = False).agg({'group':'nunique'})\n",
    "two_gorups_check[two_gorups_check['group'] == 2]"
   ]
  },
  {
   "cell_type": "markdown",
   "id": "2fb7983a",
   "metadata": {},
   "source": [
    "Seems like there are customers that are in both groups. I will have to remove them."
   ]
  },
  {
   "cell_type": "markdown",
   "id": "0e71ef39",
   "metadata": {},
   "source": [
    "### Midway conclusion"
   ]
  },
  {
   "cell_type": "markdown",
   "id": "466eacc3",
   "metadata": {},
   "source": [
    "1. The date and group columns in the orders and visitors tables need to have their data type changed.\n",
    "1. The hypothesis table needs to split its columns and data.\n",
    "1. The hypothesis table contains upper case letters, I'll change them to lower case.\n",
    "1. And there are users that are in groups A and B, they need to be deleted."
   ]
  },
  {
   "cell_type": "markdown",
   "id": "58967bfe",
   "metadata": {},
   "source": [
    "## Data correction"
   ]
  },
  {
   "cell_type": "markdown",
   "id": "e2223597",
   "metadata": {},
   "source": [
    "### Changing data type"
   ]
  },
  {
   "cell_type": "markdown",
   "id": "539f8fa2",
   "metadata": {},
   "source": [
    "First I will change the data type of the date column, in both orders and visits tables, to datetime. "
   ]
  },
  {
   "cell_type": "code",
   "execution_count": 147,
   "id": "4cb5b9bf",
   "metadata": {},
   "outputs": [],
   "source": [
    "orders_df['date'] = orders_df['date'].map(lambda x: dt.datetime.strptime(x, '%Y-%m-%d'))\n",
    "visits_df['date'] = visits_df['date'].map(lambda x: dt.datetime.strptime(x, '%Y-%m-%d'))"
   ]
  },
  {
   "cell_type": "markdown",
   "id": "1fdd5aab",
   "metadata": {},
   "source": [
    "Now I will change the group data type in to categories."
   ]
  },
  {
   "cell_type": "code",
   "execution_count": 148,
   "id": "1e34b9e6",
   "metadata": {},
   "outputs": [
    {
     "name": "stdout",
     "output_type": "stream",
     "text": [
      "<class 'pandas.core.frame.DataFrame'>\n",
      "RangeIndex: 1197 entries, 0 to 1196\n",
      "Data columns (total 5 columns):\n",
      " #   Column         Non-Null Count  Dtype         \n",
      "---  ------         --------------  -----         \n",
      " 0   transactionId  1197 non-null   int64         \n",
      " 1   visitorId      1197 non-null   int64         \n",
      " 2   date           1197 non-null   datetime64[ns]\n",
      " 3   revenue        1197 non-null   float64       \n",
      " 4   group          1197 non-null   category      \n",
      "dtypes: category(1), datetime64[ns](1), float64(1), int64(2)\n",
      "memory usage: 38.8 KB\n"
     ]
    }
   ],
   "source": [
    "orders_df['group'] = orders_df['group'].astype('category')\n",
    "visits_df['group'] = visits_df['group'].astype('category')\n",
    "orders_df.info()"
   ]
  },
  {
   "cell_type": "code",
   "execution_count": 149,
   "id": "ff21a40e",
   "metadata": {},
   "outputs": [
    {
     "name": "stdout",
     "output_type": "stream",
     "text": [
      "<class 'pandas.core.frame.DataFrame'>\n",
      "RangeIndex: 62 entries, 0 to 61\n",
      "Data columns (total 3 columns):\n",
      " #   Column  Non-Null Count  Dtype         \n",
      "---  ------  --------------  -----         \n",
      " 0   date    62 non-null     datetime64[ns]\n",
      " 1   group   62 non-null     category      \n",
      " 2   visits  62 non-null     int64         \n",
      "dtypes: category(1), datetime64[ns](1), int64(1)\n",
      "memory usage: 1.3 KB\n"
     ]
    }
   ],
   "source": [
    "visits_df.info()"
   ]
  },
  {
   "cell_type": "markdown",
   "id": "a9659cde",
   "metadata": {},
   "source": [
    "### Split the data"
   ]
  },
  {
   "cell_type": "markdown",
   "id": "f911f01a",
   "metadata": {},
   "source": [
    "Using the sep in the read_csv(), I can separate the columns the hypothesis table in to a readable format."
   ]
  },
  {
   "cell_type": "code",
   "execution_count": 150,
   "id": "6e00c63b",
   "metadata": {},
   "outputs": [
    {
     "data": {
      "text/html": [
       "<div>\n",
       "<style scoped>\n",
       "    .dataframe tbody tr th:only-of-type {\n",
       "        vertical-align: middle;\n",
       "    }\n",
       "\n",
       "    .dataframe tbody tr th {\n",
       "        vertical-align: top;\n",
       "    }\n",
       "\n",
       "    .dataframe thead th {\n",
       "        text-align: right;\n",
       "    }\n",
       "</style>\n",
       "<table border=\"1\" class=\"dataframe\">\n",
       "  <thead>\n",
       "    <tr style=\"text-align: right;\">\n",
       "      <th></th>\n",
       "      <th>Hypothesis</th>\n",
       "      <th>Reach</th>\n",
       "      <th>Impact</th>\n",
       "      <th>Confidence</th>\n",
       "      <th>Effort</th>\n",
       "    </tr>\n",
       "  </thead>\n",
       "  <tbody>\n",
       "    <tr>\n",
       "      <th>0</th>\n",
       "      <td>Add two new channels for attracting traffic. This will bring 30% more users</td>\n",
       "      <td>3</td>\n",
       "      <td>10</td>\n",
       "      <td>8</td>\n",
       "      <td>6</td>\n",
       "    </tr>\n",
       "    <tr>\n",
       "      <th>1</th>\n",
       "      <td>Launch your own delivery service. This will shorten delivery time</td>\n",
       "      <td>2</td>\n",
       "      <td>5</td>\n",
       "      <td>4</td>\n",
       "      <td>10</td>\n",
       "    </tr>\n",
       "    <tr>\n",
       "      <th>2</th>\n",
       "      <td>Add product recommendation blocks to the store's site. This will increase conversion and average purchase size</td>\n",
       "      <td>8</td>\n",
       "      <td>3</td>\n",
       "      <td>7</td>\n",
       "      <td>3</td>\n",
       "    </tr>\n",
       "    <tr>\n",
       "      <th>3</th>\n",
       "      <td>Change the category structure. This will increase conversion since users will find the products they want more quickly</td>\n",
       "      <td>8</td>\n",
       "      <td>3</td>\n",
       "      <td>3</td>\n",
       "      <td>8</td>\n",
       "    </tr>\n",
       "    <tr>\n",
       "      <th>4</th>\n",
       "      <td>Change the background color on the main page. This will increase user engagement</td>\n",
       "      <td>3</td>\n",
       "      <td>1</td>\n",
       "      <td>1</td>\n",
       "      <td>1</td>\n",
       "    </tr>\n",
       "    <tr>\n",
       "      <th>5</th>\n",
       "      <td>Add a customer review page. This will increase the number of orders</td>\n",
       "      <td>3</td>\n",
       "      <td>2</td>\n",
       "      <td>2</td>\n",
       "      <td>3</td>\n",
       "    </tr>\n",
       "    <tr>\n",
       "      <th>6</th>\n",
       "      <td>Show banners with current offers and sales on the main page. This will boost conversion</td>\n",
       "      <td>5</td>\n",
       "      <td>3</td>\n",
       "      <td>8</td>\n",
       "      <td>3</td>\n",
       "    </tr>\n",
       "    <tr>\n",
       "      <th>7</th>\n",
       "      <td>Add a subscription form to all the main pages. This will help you compile a mailing list</td>\n",
       "      <td>10</td>\n",
       "      <td>7</td>\n",
       "      <td>8</td>\n",
       "      <td>5</td>\n",
       "    </tr>\n",
       "    <tr>\n",
       "      <th>8</th>\n",
       "      <td>Launch a promotion that gives users discounts on their birthdays</td>\n",
       "      <td>1</td>\n",
       "      <td>9</td>\n",
       "      <td>9</td>\n",
       "      <td>5</td>\n",
       "    </tr>\n",
       "  </tbody>\n",
       "</table>\n",
       "</div>"
      ],
      "text/plain": [
       "                                                                                                               Hypothesis  \\\n",
       "0                                             Add two new channels for attracting traffic. This will bring 30% more users   \n",
       "1                                                       Launch your own delivery service. This will shorten delivery time   \n",
       "2          Add product recommendation blocks to the store's site. This will increase conversion and average purchase size   \n",
       "3  Change the category structure. This will increase conversion since users will find the products they want more quickly   \n",
       "4                                        Change the background color on the main page. This will increase user engagement   \n",
       "5                                                     Add a customer review page. This will increase the number of orders   \n",
       "6                                 Show banners with current offers and sales on the main page. This will boost conversion   \n",
       "7                                Add a subscription form to all the main pages. This will help you compile a mailing list   \n",
       "8                                                        Launch a promotion that gives users discounts on their birthdays   \n",
       "\n",
       "   Reach  Impact  Confidence  Effort  \n",
       "0      3      10           8       6  \n",
       "1      2       5           4      10  \n",
       "2      8       3           7       3  \n",
       "3      8       3           3       8  \n",
       "4      3       1           1       1  \n",
       "5      3       2           2       3  \n",
       "6      5       3           8       3  \n",
       "7     10       7           8       5  \n",
       "8      1       9           9       5  "
      ]
     },
     "execution_count": 150,
     "metadata": {},
     "output_type": "execute_result"
    }
   ],
   "source": [
    "try:\n",
    "    hypotheses_df = pd.read_csv('hypotheses_us.csv', sep = ';')\n",
    "except:\n",
    "    hypotheses_df = pd.read_csv('/datasets/hypotheses_us.csv', sep = ';')\n",
    "    \n",
    "pd.set_option('display.max_colwidth', None)   \n",
    "    \n",
    "hypotheses_df"
   ]
  },
  {
   "cell_type": "markdown",
   "id": "051e282a",
   "metadata": {},
   "source": [
    "### Lower case"
   ]
  },
  {
   "cell_type": "markdown",
   "id": "aba400ed",
   "metadata": {},
   "source": [
    "Now I'll change the columns names to lower case using columns.str.lower() "
   ]
  },
  {
   "cell_type": "code",
   "execution_count": 151,
   "id": "7f308ebd",
   "metadata": {},
   "outputs": [
    {
     "data": {
      "text/html": [
       "<div>\n",
       "<style scoped>\n",
       "    .dataframe tbody tr th:only-of-type {\n",
       "        vertical-align: middle;\n",
       "    }\n",
       "\n",
       "    .dataframe tbody tr th {\n",
       "        vertical-align: top;\n",
       "    }\n",
       "\n",
       "    .dataframe thead th {\n",
       "        text-align: right;\n",
       "    }\n",
       "</style>\n",
       "<table border=\"1\" class=\"dataframe\">\n",
       "  <thead>\n",
       "    <tr style=\"text-align: right;\">\n",
       "      <th></th>\n",
       "      <th>hypothesis</th>\n",
       "      <th>reach</th>\n",
       "      <th>impact</th>\n",
       "      <th>confidence</th>\n",
       "      <th>effort</th>\n",
       "    </tr>\n",
       "  </thead>\n",
       "  <tbody>\n",
       "    <tr>\n",
       "      <th>0</th>\n",
       "      <td>Add two new channels for attracting traffic. This will bring 30% more users</td>\n",
       "      <td>3</td>\n",
       "      <td>10</td>\n",
       "      <td>8</td>\n",
       "      <td>6</td>\n",
       "    </tr>\n",
       "    <tr>\n",
       "      <th>1</th>\n",
       "      <td>Launch your own delivery service. This will shorten delivery time</td>\n",
       "      <td>2</td>\n",
       "      <td>5</td>\n",
       "      <td>4</td>\n",
       "      <td>10</td>\n",
       "    </tr>\n",
       "    <tr>\n",
       "      <th>2</th>\n",
       "      <td>Add product recommendation blocks to the store's site. This will increase conversion and average purchase size</td>\n",
       "      <td>8</td>\n",
       "      <td>3</td>\n",
       "      <td>7</td>\n",
       "      <td>3</td>\n",
       "    </tr>\n",
       "    <tr>\n",
       "      <th>3</th>\n",
       "      <td>Change the category structure. This will increase conversion since users will find the products they want more quickly</td>\n",
       "      <td>8</td>\n",
       "      <td>3</td>\n",
       "      <td>3</td>\n",
       "      <td>8</td>\n",
       "    </tr>\n",
       "    <tr>\n",
       "      <th>4</th>\n",
       "      <td>Change the background color on the main page. This will increase user engagement</td>\n",
       "      <td>3</td>\n",
       "      <td>1</td>\n",
       "      <td>1</td>\n",
       "      <td>1</td>\n",
       "    </tr>\n",
       "    <tr>\n",
       "      <th>5</th>\n",
       "      <td>Add a customer review page. This will increase the number of orders</td>\n",
       "      <td>3</td>\n",
       "      <td>2</td>\n",
       "      <td>2</td>\n",
       "      <td>3</td>\n",
       "    </tr>\n",
       "    <tr>\n",
       "      <th>6</th>\n",
       "      <td>Show banners with current offers and sales on the main page. This will boost conversion</td>\n",
       "      <td>5</td>\n",
       "      <td>3</td>\n",
       "      <td>8</td>\n",
       "      <td>3</td>\n",
       "    </tr>\n",
       "    <tr>\n",
       "      <th>7</th>\n",
       "      <td>Add a subscription form to all the main pages. This will help you compile a mailing list</td>\n",
       "      <td>10</td>\n",
       "      <td>7</td>\n",
       "      <td>8</td>\n",
       "      <td>5</td>\n",
       "    </tr>\n",
       "    <tr>\n",
       "      <th>8</th>\n",
       "      <td>Launch a promotion that gives users discounts on their birthdays</td>\n",
       "      <td>1</td>\n",
       "      <td>9</td>\n",
       "      <td>9</td>\n",
       "      <td>5</td>\n",
       "    </tr>\n",
       "  </tbody>\n",
       "</table>\n",
       "</div>"
      ],
      "text/plain": [
       "                                                                                                               hypothesis  \\\n",
       "0                                             Add two new channels for attracting traffic. This will bring 30% more users   \n",
       "1                                                       Launch your own delivery service. This will shorten delivery time   \n",
       "2          Add product recommendation blocks to the store's site. This will increase conversion and average purchase size   \n",
       "3  Change the category structure. This will increase conversion since users will find the products they want more quickly   \n",
       "4                                        Change the background color on the main page. This will increase user engagement   \n",
       "5                                                     Add a customer review page. This will increase the number of orders   \n",
       "6                                 Show banners with current offers and sales on the main page. This will boost conversion   \n",
       "7                                Add a subscription form to all the main pages. This will help you compile a mailing list   \n",
       "8                                                        Launch a promotion that gives users discounts on their birthdays   \n",
       "\n",
       "   reach  impact  confidence  effort  \n",
       "0      3      10           8       6  \n",
       "1      2       5           4      10  \n",
       "2      8       3           7       3  \n",
       "3      8       3           3       8  \n",
       "4      3       1           1       1  \n",
       "5      3       2           2       3  \n",
       "6      5       3           8       3  \n",
       "7     10       7           8       5  \n",
       "8      1       9           9       5  "
      ]
     },
     "execution_count": 151,
     "metadata": {},
     "output_type": "execute_result"
    }
   ],
   "source": [
    "hypotheses_df.columns = hypotheses_df.columns.str.lower()\n",
    "hypotheses_df"
   ]
  },
  {
   "cell_type": "markdown",
   "id": "4bb7034b",
   "metadata": {},
   "source": [
    "### Deleting mistakes"
   ]
  },
  {
   "cell_type": "markdown",
   "id": "b0b28f9b",
   "metadata": {},
   "source": [
    "In order to delete the users that are in both groups, I'll have to divide the orders_df table in to 2 tables for each group.  \n",
    "After that, I will merge the tables in to one using inner merge on visitorId. That way, I'll get a table containing just the data of the users in both groups.  \n",
    "From here, I can cerate a list that contains all the visitorIds that appear in both groups.  \n",
    "then by saying that the original data is equal to the data without the people in the list, we can get rid of all the users how appear in both groups. "
   ]
  },
  {
   "cell_type": "code",
   "execution_count": 152,
   "id": "72baf0e8",
   "metadata": {},
   "outputs": [],
   "source": [
    "df_order_a = orders_df[orders_df['group'] == 'A']\n",
    "df_order_b = orders_df[orders_df['group'] == 'B']\n",
    "\n",
    "orders_all_groups = pd.merge(df_order_a,df_order_b, on = 'visitorId', how = 'inner')\n",
    "\n",
    "two_group_users = orders_all_groups['visitorId']\n",
    "\n",
    "orders_df = orders_df[~orders_df['visitorId'].isin(two_group_users)]"
   ]
  },
  {
   "cell_type": "markdown",
   "id": "91f7579c",
   "metadata": {},
   "source": [
    "Lets check that it worked"
   ]
  },
  {
   "cell_type": "code",
   "execution_count": 153,
   "id": "e267645d",
   "metadata": {},
   "outputs": [
    {
     "data": {
      "text/html": [
       "<div>\n",
       "<style scoped>\n",
       "    .dataframe tbody tr th:only-of-type {\n",
       "        vertical-align: middle;\n",
       "    }\n",
       "\n",
       "    .dataframe tbody tr th {\n",
       "        vertical-align: top;\n",
       "    }\n",
       "\n",
       "    .dataframe thead th {\n",
       "        text-align: right;\n",
       "    }\n",
       "</style>\n",
       "<table border=\"1\" class=\"dataframe\">\n",
       "  <thead>\n",
       "    <tr style=\"text-align: right;\">\n",
       "      <th></th>\n",
       "      <th>transactionId</th>\n",
       "      <th>visitorId</th>\n",
       "      <th>date</th>\n",
       "      <th>revenue</th>\n",
       "      <th>group</th>\n",
       "    </tr>\n",
       "  </thead>\n",
       "  <tbody>\n",
       "  </tbody>\n",
       "</table>\n",
       "</div>"
      ],
      "text/plain": [
       "Empty DataFrame\n",
       "Columns: [transactionId, visitorId, date, revenue, group]\n",
       "Index: []"
      ]
     },
     "execution_count": 153,
     "metadata": {},
     "output_type": "execute_result"
    }
   ],
   "source": [
    " orders_df[orders_df['visitorId'].isin(two_group_users)]"
   ]
  },
  {
   "cell_type": "markdown",
   "id": "e6e7c509",
   "metadata": {},
   "source": [
    "Looks good"
   ]
  },
  {
   "cell_type": "markdown",
   "id": "5e923a3d",
   "metadata": {},
   "source": [
    "### Midway conclusion"
   ]
  },
  {
   "cell_type": "markdown",
   "id": "1ffaa2fc",
   "metadata": {},
   "source": [
    "1. I changed the data type of the group column to category, and the date column to date time,  \n",
    "   in both orders_df table and visits_df table.\n",
    "1. I separated the data in hypothesis_df table to distinct columns.\n",
    "1. Changed the made all letters in the columns of the hypothesis table to lower case.\n",
    "1. Deleted all the visitorIds that were in more then two groups in the orders table. "
   ]
  },
  {
   "cell_type": "markdown",
   "id": "e46b45b9",
   "metadata": {},
   "source": [
    "# Prioritizing hypotheses"
   ]
  },
  {
   "cell_type": "markdown",
   "id": "96d0ab12",
   "metadata": {},
   "source": [
    "Using the RICE and ICE methods, I'll try to prioritize the hypotheses"
   ]
  },
  {
   "cell_type": "markdown",
   "id": "549c542e",
   "metadata": {},
   "source": [
    "## ICE"
   ]
  },
  {
   "cell_type": "markdown",
   "id": "92348bfc",
   "metadata": {},
   "source": [
    "To create a ICE column in the hypothesis table, I need to multiply impact with confidence, and divide the result by efforts. "
   ]
  },
  {
   "cell_type": "code",
   "execution_count": 154,
   "id": "21bf96e5",
   "metadata": {},
   "outputs": [
    {
     "data": {
      "text/html": [
       "<div>\n",
       "<style scoped>\n",
       "    .dataframe tbody tr th:only-of-type {\n",
       "        vertical-align: middle;\n",
       "    }\n",
       "\n",
       "    .dataframe tbody tr th {\n",
       "        vertical-align: top;\n",
       "    }\n",
       "\n",
       "    .dataframe thead th {\n",
       "        text-align: right;\n",
       "    }\n",
       "</style>\n",
       "<table border=\"1\" class=\"dataframe\">\n",
       "  <thead>\n",
       "    <tr style=\"text-align: right;\">\n",
       "      <th></th>\n",
       "      <th>hypothesis</th>\n",
       "      <th>reach</th>\n",
       "      <th>impact</th>\n",
       "      <th>confidence</th>\n",
       "      <th>effort</th>\n",
       "      <th>ice</th>\n",
       "    </tr>\n",
       "  </thead>\n",
       "  <tbody>\n",
       "    <tr>\n",
       "      <th>8</th>\n",
       "      <td>Launch a promotion that gives users discounts on their birthdays</td>\n",
       "      <td>1</td>\n",
       "      <td>9</td>\n",
       "      <td>9</td>\n",
       "      <td>5</td>\n",
       "      <td>16.200000</td>\n",
       "    </tr>\n",
       "    <tr>\n",
       "      <th>0</th>\n",
       "      <td>Add two new channels for attracting traffic. This will bring 30% more users</td>\n",
       "      <td>3</td>\n",
       "      <td>10</td>\n",
       "      <td>8</td>\n",
       "      <td>6</td>\n",
       "      <td>13.333333</td>\n",
       "    </tr>\n",
       "    <tr>\n",
       "      <th>7</th>\n",
       "      <td>Add a subscription form to all the main pages. This will help you compile a mailing list</td>\n",
       "      <td>10</td>\n",
       "      <td>7</td>\n",
       "      <td>8</td>\n",
       "      <td>5</td>\n",
       "      <td>11.200000</td>\n",
       "    </tr>\n",
       "    <tr>\n",
       "      <th>6</th>\n",
       "      <td>Show banners with current offers and sales on the main page. This will boost conversion</td>\n",
       "      <td>5</td>\n",
       "      <td>3</td>\n",
       "      <td>8</td>\n",
       "      <td>3</td>\n",
       "      <td>8.000000</td>\n",
       "    </tr>\n",
       "    <tr>\n",
       "      <th>2</th>\n",
       "      <td>Add product recommendation blocks to the store's site. This will increase conversion and average purchase size</td>\n",
       "      <td>8</td>\n",
       "      <td>3</td>\n",
       "      <td>7</td>\n",
       "      <td>3</td>\n",
       "      <td>7.000000</td>\n",
       "    </tr>\n",
       "    <tr>\n",
       "      <th>1</th>\n",
       "      <td>Launch your own delivery service. This will shorten delivery time</td>\n",
       "      <td>2</td>\n",
       "      <td>5</td>\n",
       "      <td>4</td>\n",
       "      <td>10</td>\n",
       "      <td>2.000000</td>\n",
       "    </tr>\n",
       "    <tr>\n",
       "      <th>5</th>\n",
       "      <td>Add a customer review page. This will increase the number of orders</td>\n",
       "      <td>3</td>\n",
       "      <td>2</td>\n",
       "      <td>2</td>\n",
       "      <td>3</td>\n",
       "      <td>1.333333</td>\n",
       "    </tr>\n",
       "    <tr>\n",
       "      <th>3</th>\n",
       "      <td>Change the category structure. This will increase conversion since users will find the products they want more quickly</td>\n",
       "      <td>8</td>\n",
       "      <td>3</td>\n",
       "      <td>3</td>\n",
       "      <td>8</td>\n",
       "      <td>1.125000</td>\n",
       "    </tr>\n",
       "    <tr>\n",
       "      <th>4</th>\n",
       "      <td>Change the background color on the main page. This will increase user engagement</td>\n",
       "      <td>3</td>\n",
       "      <td>1</td>\n",
       "      <td>1</td>\n",
       "      <td>1</td>\n",
       "      <td>1.000000</td>\n",
       "    </tr>\n",
       "  </tbody>\n",
       "</table>\n",
       "</div>"
      ],
      "text/plain": [
       "                                                                                                               hypothesis  \\\n",
       "8                                                        Launch a promotion that gives users discounts on their birthdays   \n",
       "0                                             Add two new channels for attracting traffic. This will bring 30% more users   \n",
       "7                                Add a subscription form to all the main pages. This will help you compile a mailing list   \n",
       "6                                 Show banners with current offers and sales on the main page. This will boost conversion   \n",
       "2          Add product recommendation blocks to the store's site. This will increase conversion and average purchase size   \n",
       "1                                                       Launch your own delivery service. This will shorten delivery time   \n",
       "5                                                     Add a customer review page. This will increase the number of orders   \n",
       "3  Change the category structure. This will increase conversion since users will find the products they want more quickly   \n",
       "4                                        Change the background color on the main page. This will increase user engagement   \n",
       "\n",
       "   reach  impact  confidence  effort        ice  \n",
       "8      1       9           9       5  16.200000  \n",
       "0      3      10           8       6  13.333333  \n",
       "7     10       7           8       5  11.200000  \n",
       "6      5       3           8       3   8.000000  \n",
       "2      8       3           7       3   7.000000  \n",
       "1      2       5           4      10   2.000000  \n",
       "5      3       2           2       3   1.333333  \n",
       "3      8       3           3       8   1.125000  \n",
       "4      3       1           1       1   1.000000  "
      ]
     },
     "execution_count": 154,
     "metadata": {},
     "output_type": "execute_result"
    }
   ],
   "source": [
    "hypotheses_df['ice'] = (hypotheses_df['impact'] * hypotheses_df['confidence']) / hypotheses_df['effort']\n",
    "hypotheses_df = hypotheses_df.sort_values(by = 'ice', ascending = False)\n",
    "hypotheses_df"
   ]
  },
  {
   "cell_type": "markdown",
   "id": "0a3a84cd",
   "metadata": {},
   "source": [
    "8 seems like the best hypothesis by the ICE metric.  \n",
    "After 8 it's 0, 7, 6 and 2.  \n",
    "Lets see if something changes when using the RICE method. "
   ]
  },
  {
   "cell_type": "markdown",
   "id": "b188f680",
   "metadata": {},
   "source": [
    "## RICE"
   ]
  },
  {
   "cell_type": "markdown",
   "id": "3565a4e3",
   "metadata": {},
   "source": [
    "To find the RICE of a hypothesis, is the same as finding the ICE,  \n",
    "the difference is that we also multiply the ICE with reach column."
   ]
  },
  {
   "cell_type": "code",
   "execution_count": 155,
   "id": "b27acfbc",
   "metadata": {},
   "outputs": [
    {
     "data": {
      "text/html": [
       "<div>\n",
       "<style scoped>\n",
       "    .dataframe tbody tr th:only-of-type {\n",
       "        vertical-align: middle;\n",
       "    }\n",
       "\n",
       "    .dataframe tbody tr th {\n",
       "        vertical-align: top;\n",
       "    }\n",
       "\n",
       "    .dataframe thead th {\n",
       "        text-align: right;\n",
       "    }\n",
       "</style>\n",
       "<table border=\"1\" class=\"dataframe\">\n",
       "  <thead>\n",
       "    <tr style=\"text-align: right;\">\n",
       "      <th></th>\n",
       "      <th>hypothesis</th>\n",
       "      <th>reach</th>\n",
       "      <th>impact</th>\n",
       "      <th>confidence</th>\n",
       "      <th>effort</th>\n",
       "      <th>ice</th>\n",
       "      <th>rice</th>\n",
       "    </tr>\n",
       "  </thead>\n",
       "  <tbody>\n",
       "    <tr>\n",
       "      <th>7</th>\n",
       "      <td>Add a subscription form to all the main pages. This will help you compile a mailing list</td>\n",
       "      <td>10</td>\n",
       "      <td>7</td>\n",
       "      <td>8</td>\n",
       "      <td>5</td>\n",
       "      <td>11.200000</td>\n",
       "      <td>112.0</td>\n",
       "    </tr>\n",
       "    <tr>\n",
       "      <th>2</th>\n",
       "      <td>Add product recommendation blocks to the store's site. This will increase conversion and average purchase size</td>\n",
       "      <td>8</td>\n",
       "      <td>3</td>\n",
       "      <td>7</td>\n",
       "      <td>3</td>\n",
       "      <td>7.000000</td>\n",
       "      <td>56.0</td>\n",
       "    </tr>\n",
       "    <tr>\n",
       "      <th>0</th>\n",
       "      <td>Add two new channels for attracting traffic. This will bring 30% more users</td>\n",
       "      <td>3</td>\n",
       "      <td>10</td>\n",
       "      <td>8</td>\n",
       "      <td>6</td>\n",
       "      <td>13.333333</td>\n",
       "      <td>40.0</td>\n",
       "    </tr>\n",
       "    <tr>\n",
       "      <th>6</th>\n",
       "      <td>Show banners with current offers and sales on the main page. This will boost conversion</td>\n",
       "      <td>5</td>\n",
       "      <td>3</td>\n",
       "      <td>8</td>\n",
       "      <td>3</td>\n",
       "      <td>8.000000</td>\n",
       "      <td>40.0</td>\n",
       "    </tr>\n",
       "    <tr>\n",
       "      <th>8</th>\n",
       "      <td>Launch a promotion that gives users discounts on their birthdays</td>\n",
       "      <td>1</td>\n",
       "      <td>9</td>\n",
       "      <td>9</td>\n",
       "      <td>5</td>\n",
       "      <td>16.200000</td>\n",
       "      <td>16.2</td>\n",
       "    </tr>\n",
       "    <tr>\n",
       "      <th>3</th>\n",
       "      <td>Change the category structure. This will increase conversion since users will find the products they want more quickly</td>\n",
       "      <td>8</td>\n",
       "      <td>3</td>\n",
       "      <td>3</td>\n",
       "      <td>8</td>\n",
       "      <td>1.125000</td>\n",
       "      <td>9.0</td>\n",
       "    </tr>\n",
       "    <tr>\n",
       "      <th>1</th>\n",
       "      <td>Launch your own delivery service. This will shorten delivery time</td>\n",
       "      <td>2</td>\n",
       "      <td>5</td>\n",
       "      <td>4</td>\n",
       "      <td>10</td>\n",
       "      <td>2.000000</td>\n",
       "      <td>4.0</td>\n",
       "    </tr>\n",
       "    <tr>\n",
       "      <th>5</th>\n",
       "      <td>Add a customer review page. This will increase the number of orders</td>\n",
       "      <td>3</td>\n",
       "      <td>2</td>\n",
       "      <td>2</td>\n",
       "      <td>3</td>\n",
       "      <td>1.333333</td>\n",
       "      <td>4.0</td>\n",
       "    </tr>\n",
       "    <tr>\n",
       "      <th>4</th>\n",
       "      <td>Change the background color on the main page. This will increase user engagement</td>\n",
       "      <td>3</td>\n",
       "      <td>1</td>\n",
       "      <td>1</td>\n",
       "      <td>1</td>\n",
       "      <td>1.000000</td>\n",
       "      <td>3.0</td>\n",
       "    </tr>\n",
       "  </tbody>\n",
       "</table>\n",
       "</div>"
      ],
      "text/plain": [
       "                                                                                                               hypothesis  \\\n",
       "7                                Add a subscription form to all the main pages. This will help you compile a mailing list   \n",
       "2          Add product recommendation blocks to the store's site. This will increase conversion and average purchase size   \n",
       "0                                             Add two new channels for attracting traffic. This will bring 30% more users   \n",
       "6                                 Show banners with current offers and sales on the main page. This will boost conversion   \n",
       "8                                                        Launch a promotion that gives users discounts on their birthdays   \n",
       "3  Change the category structure. This will increase conversion since users will find the products they want more quickly   \n",
       "1                                                       Launch your own delivery service. This will shorten delivery time   \n",
       "5                                                     Add a customer review page. This will increase the number of orders   \n",
       "4                                        Change the background color on the main page. This will increase user engagement   \n",
       "\n",
       "   reach  impact  confidence  effort        ice   rice  \n",
       "7     10       7           8       5  11.200000  112.0  \n",
       "2      8       3           7       3   7.000000   56.0  \n",
       "0      3      10           8       6  13.333333   40.0  \n",
       "6      5       3           8       3   8.000000   40.0  \n",
       "8      1       9           9       5  16.200000   16.2  \n",
       "3      8       3           3       8   1.125000    9.0  \n",
       "1      2       5           4      10   2.000000    4.0  \n",
       "5      3       2           2       3   1.333333    4.0  \n",
       "4      3       1           1       1   1.000000    3.0  "
      ]
     },
     "execution_count": 155,
     "metadata": {},
     "output_type": "execute_result"
    }
   ],
   "source": [
    "hypotheses_df['rice'] = hypotheses_df['ice'] * hypotheses_df['reach']\n",
    "hypotheses_df = hypotheses_df.sort_values(by = 'rice', ascending = False)\n",
    "hypotheses_df"
   ]
  },
  {
   "cell_type": "markdown",
   "id": "1422a85d",
   "metadata": {},
   "source": [
    "In the RICE method, not only is 8 no the leading hypothesis, it's not in the top 4.  \n",
    "The hypothesis that where generally in a high place in the ICE method, are the same ones but just in a different order.  \n",
    "The reason for this is that it took in to account the reach factor.  \n",
    "8 for example, had a high impact and confidence, but the reach was very low."
   ]
  },
  {
   "cell_type": "markdown",
   "id": "141b8b4a",
   "metadata": {},
   "source": [
    "# A/B test analysis"
   ]
  },
  {
   "cell_type": "markdown",
   "id": "ff538d2d",
   "metadata": {},
   "source": [
    "Now I'll analyze the A/B test. To do so I need to go through a number of stages. "
   ]
  },
  {
   "cell_type": "markdown",
   "id": "ae0899ca",
   "metadata": {},
   "source": [
    "## cumulative revenue "
   ]
  },
  {
   "cell_type": "markdown",
   "id": "35359ab2",
   "metadata": {},
   "source": [
    "I'll graph cumulative revenue by group.  \n",
    "To do so, I'll first divide the orders table to two tables for each group."
   ]
  },
  {
   "cell_type": "code",
   "execution_count": 156,
   "id": "dd5b4b0d",
   "metadata": {},
   "outputs": [
    {
     "data": {
      "text/html": [
       "<div>\n",
       "<style scoped>\n",
       "    .dataframe tbody tr th:only-of-type {\n",
       "        vertical-align: middle;\n",
       "    }\n",
       "\n",
       "    .dataframe tbody tr th {\n",
       "        vertical-align: top;\n",
       "    }\n",
       "\n",
       "    .dataframe thead th {\n",
       "        text-align: right;\n",
       "    }\n",
       "</style>\n",
       "<table border=\"1\" class=\"dataframe\">\n",
       "  <thead>\n",
       "    <tr style=\"text-align: right;\">\n",
       "      <th></th>\n",
       "      <th>transactionId</th>\n",
       "      <th>visitorId</th>\n",
       "      <th>date</th>\n",
       "      <th>revenue</th>\n",
       "      <th>group</th>\n",
       "    </tr>\n",
       "  </thead>\n",
       "  <tbody>\n",
       "    <tr>\n",
       "      <th>7</th>\n",
       "      <td>2626614568</td>\n",
       "      <td>78758296</td>\n",
       "      <td>2019-08-15</td>\n",
       "      <td>20.1</td>\n",
       "      <td>A</td>\n",
       "    </tr>\n",
       "    <tr>\n",
       "      <th>8</th>\n",
       "      <td>1576988021</td>\n",
       "      <td>295230930</td>\n",
       "      <td>2019-08-15</td>\n",
       "      <td>215.9</td>\n",
       "      <td>A</td>\n",
       "    </tr>\n",
       "    <tr>\n",
       "      <th>10</th>\n",
       "      <td>3649131742</td>\n",
       "      <td>879864040</td>\n",
       "      <td>2019-08-15</td>\n",
       "      <td>65.7</td>\n",
       "      <td>A</td>\n",
       "    </tr>\n",
       "    <tr>\n",
       "      <th>12</th>\n",
       "      <td>2809384911</td>\n",
       "      <td>3213223594</td>\n",
       "      <td>2019-08-15</td>\n",
       "      <td>115.4</td>\n",
       "      <td>A</td>\n",
       "    </tr>\n",
       "    <tr>\n",
       "      <th>14</th>\n",
       "      <td>3859315276</td>\n",
       "      <td>1565034404</td>\n",
       "      <td>2019-08-15</td>\n",
       "      <td>170.9</td>\n",
       "      <td>A</td>\n",
       "    </tr>\n",
       "    <tr>\n",
       "      <th>...</th>\n",
       "      <td>...</td>\n",
       "      <td>...</td>\n",
       "      <td>...</td>\n",
       "      <td>...</td>\n",
       "      <td>...</td>\n",
       "    </tr>\n",
       "    <tr>\n",
       "      <th>1185</th>\n",
       "      <td>948555526</td>\n",
       "      <td>2710193528</td>\n",
       "      <td>2019-08-14</td>\n",
       "      <td>15.2</td>\n",
       "      <td>A</td>\n",
       "    </tr>\n",
       "    <tr>\n",
       "      <th>1187</th>\n",
       "      <td>2274188238</td>\n",
       "      <td>132143192</td>\n",
       "      <td>2019-08-14</td>\n",
       "      <td>15.5</td>\n",
       "      <td>A</td>\n",
       "    </tr>\n",
       "    <tr>\n",
       "      <th>1188</th>\n",
       "      <td>1692103379</td>\n",
       "      <td>1022829655</td>\n",
       "      <td>2019-08-14</td>\n",
       "      <td>5.7</td>\n",
       "      <td>A</td>\n",
       "    </tr>\n",
       "    <tr>\n",
       "      <th>1193</th>\n",
       "      <td>2203539145</td>\n",
       "      <td>370388673</td>\n",
       "      <td>2019-08-14</td>\n",
       "      <td>50.1</td>\n",
       "      <td>A</td>\n",
       "    </tr>\n",
       "    <tr>\n",
       "      <th>1194</th>\n",
       "      <td>1807773912</td>\n",
       "      <td>573423106</td>\n",
       "      <td>2019-08-14</td>\n",
       "      <td>165.3</td>\n",
       "      <td>A</td>\n",
       "    </tr>\n",
       "  </tbody>\n",
       "</table>\n",
       "<p>468 rows × 5 columns</p>\n",
       "</div>"
      ],
      "text/plain": [
       "      transactionId   visitorId       date  revenue group\n",
       "7        2626614568    78758296 2019-08-15     20.1     A\n",
       "8        1576988021   295230930 2019-08-15    215.9     A\n",
       "10       3649131742   879864040 2019-08-15     65.7     A\n",
       "12       2809384911  3213223594 2019-08-15    115.4     A\n",
       "14       3859315276  1565034404 2019-08-15    170.9     A\n",
       "...             ...         ...        ...      ...   ...\n",
       "1185      948555526  2710193528 2019-08-14     15.2     A\n",
       "1187     2274188238   132143192 2019-08-14     15.5     A\n",
       "1188     1692103379  1022829655 2019-08-14      5.7     A\n",
       "1193     2203539145   370388673 2019-08-14     50.1     A\n",
       "1194     1807773912   573423106 2019-08-14    165.3     A\n",
       "\n",
       "[468 rows x 5 columns]"
      ]
     },
     "execution_count": 156,
     "metadata": {},
     "output_type": "execute_result"
    }
   ],
   "source": [
    "orders_a = orders_df[orders_df['group'] == 'A']\n",
    "orders_b = orders_df[orders_df['group'] == 'B'] \n",
    "orders_a"
   ]
  },
  {
   "cell_type": "code",
   "execution_count": 157,
   "id": "a1dc8fbc",
   "metadata": {},
   "outputs": [
    {
     "data": {
      "text/html": [
       "<div>\n",
       "<style scoped>\n",
       "    .dataframe tbody tr th:only-of-type {\n",
       "        vertical-align: middle;\n",
       "    }\n",
       "\n",
       "    .dataframe tbody tr th {\n",
       "        vertical-align: top;\n",
       "    }\n",
       "\n",
       "    .dataframe thead th {\n",
       "        text-align: right;\n",
       "    }\n",
       "</style>\n",
       "<table border=\"1\" class=\"dataframe\">\n",
       "  <thead>\n",
       "    <tr style=\"text-align: right;\">\n",
       "      <th></th>\n",
       "      <th>transactionId</th>\n",
       "      <th>visitorId</th>\n",
       "      <th>date</th>\n",
       "      <th>revenue</th>\n",
       "      <th>group</th>\n",
       "    </tr>\n",
       "  </thead>\n",
       "  <tbody>\n",
       "    <tr>\n",
       "      <th>0</th>\n",
       "      <td>3667963787</td>\n",
       "      <td>3312258926</td>\n",
       "      <td>2019-08-15</td>\n",
       "      <td>30.4</td>\n",
       "      <td>B</td>\n",
       "    </tr>\n",
       "    <tr>\n",
       "      <th>1</th>\n",
       "      <td>2804400009</td>\n",
       "      <td>3642806036</td>\n",
       "      <td>2019-08-15</td>\n",
       "      <td>15.2</td>\n",
       "      <td>B</td>\n",
       "    </tr>\n",
       "    <tr>\n",
       "      <th>3</th>\n",
       "      <td>3797467345</td>\n",
       "      <td>1196621759</td>\n",
       "      <td>2019-08-15</td>\n",
       "      <td>155.1</td>\n",
       "      <td>B</td>\n",
       "    </tr>\n",
       "    <tr>\n",
       "      <th>4</th>\n",
       "      <td>2282983706</td>\n",
       "      <td>2322279887</td>\n",
       "      <td>2019-08-15</td>\n",
       "      <td>40.5</td>\n",
       "      <td>B</td>\n",
       "    </tr>\n",
       "    <tr>\n",
       "      <th>5</th>\n",
       "      <td>182168103</td>\n",
       "      <td>935554773</td>\n",
       "      <td>2019-08-15</td>\n",
       "      <td>35.0</td>\n",
       "      <td>B</td>\n",
       "    </tr>\n",
       "    <tr>\n",
       "      <th>...</th>\n",
       "      <td>...</td>\n",
       "      <td>...</td>\n",
       "      <td>...</td>\n",
       "      <td>...</td>\n",
       "      <td>...</td>\n",
       "    </tr>\n",
       "    <tr>\n",
       "      <th>1186</th>\n",
       "      <td>2116724386</td>\n",
       "      <td>2146711261</td>\n",
       "      <td>2019-08-14</td>\n",
       "      <td>240.6</td>\n",
       "      <td>B</td>\n",
       "    </tr>\n",
       "    <tr>\n",
       "      <th>1190</th>\n",
       "      <td>38478481</td>\n",
       "      <td>1197745035</td>\n",
       "      <td>2019-08-14</td>\n",
       "      <td>135.3</td>\n",
       "      <td>B</td>\n",
       "    </tr>\n",
       "    <tr>\n",
       "      <th>1191</th>\n",
       "      <td>3592955527</td>\n",
       "      <td>608641596</td>\n",
       "      <td>2019-08-14</td>\n",
       "      <td>255.7</td>\n",
       "      <td>B</td>\n",
       "    </tr>\n",
       "    <tr>\n",
       "      <th>1192</th>\n",
       "      <td>2662137336</td>\n",
       "      <td>3733762160</td>\n",
       "      <td>2019-08-14</td>\n",
       "      <td>100.8</td>\n",
       "      <td>B</td>\n",
       "    </tr>\n",
       "    <tr>\n",
       "      <th>1196</th>\n",
       "      <td>3936777065</td>\n",
       "      <td>2108080724</td>\n",
       "      <td>2019-08-15</td>\n",
       "      <td>3120.1</td>\n",
       "      <td>B</td>\n",
       "    </tr>\n",
       "  </tbody>\n",
       "</table>\n",
       "<p>548 rows × 5 columns</p>\n",
       "</div>"
      ],
      "text/plain": [
       "      transactionId   visitorId       date  revenue group\n",
       "0        3667963787  3312258926 2019-08-15     30.4     B\n",
       "1        2804400009  3642806036 2019-08-15     15.2     B\n",
       "3        3797467345  1196621759 2019-08-15    155.1     B\n",
       "4        2282983706  2322279887 2019-08-15     40.5     B\n",
       "5         182168103   935554773 2019-08-15     35.0     B\n",
       "...             ...         ...        ...      ...   ...\n",
       "1186     2116724386  2146711261 2019-08-14    240.6     B\n",
       "1190       38478481  1197745035 2019-08-14    135.3     B\n",
       "1191     3592955527   608641596 2019-08-14    255.7     B\n",
       "1192     2662137336  3733762160 2019-08-14    100.8     B\n",
       "1196     3936777065  2108080724 2019-08-15   3120.1     B\n",
       "\n",
       "[548 rows x 5 columns]"
      ]
     },
     "execution_count": 157,
     "metadata": {},
     "output_type": "execute_result"
    }
   ],
   "source": [
    "orders_b"
   ]
  },
  {
   "cell_type": "markdown",
   "id": "7b238852",
   "metadata": {},
   "source": [
    "From each of the new tables, I'm going to group the sum of revenue by day. "
   ]
  },
  {
   "cell_type": "code",
   "execution_count": 158,
   "id": "39e5c40c",
   "metadata": {},
   "outputs": [],
   "source": [
    "cum_rev_a = orders_a.groupby('date', as_index = False).agg({'revenue':'sum'})\n",
    "cum_rev_b = orders_b.groupby('date', as_index = False).agg({'revenue':'sum'})"
   ]
  },
  {
   "cell_type": "markdown",
   "id": "a28d17a2",
   "metadata": {},
   "source": [
    "Now using cumsum(), I'll create a column that contains the cumulative revenue."
   ]
  },
  {
   "cell_type": "code",
   "execution_count": 159,
   "id": "ed345a35",
   "metadata": {},
   "outputs": [
    {
     "data": {
      "text/html": [
       "<div>\n",
       "<style scoped>\n",
       "    .dataframe tbody tr th:only-of-type {\n",
       "        vertical-align: middle;\n",
       "    }\n",
       "\n",
       "    .dataframe tbody tr th {\n",
       "        vertical-align: top;\n",
       "    }\n",
       "\n",
       "    .dataframe thead th {\n",
       "        text-align: right;\n",
       "    }\n",
       "</style>\n",
       "<table border=\"1\" class=\"dataframe\">\n",
       "  <thead>\n",
       "    <tr style=\"text-align: right;\">\n",
       "      <th></th>\n",
       "      <th>date</th>\n",
       "      <th>revenue</th>\n",
       "      <th>cumu_rev</th>\n",
       "    </tr>\n",
       "  </thead>\n",
       "  <tbody>\n",
       "    <tr>\n",
       "      <th>0</th>\n",
       "      <td>2019-08-01</td>\n",
       "      <td>2266.6</td>\n",
       "      <td>2266.6</td>\n",
       "    </tr>\n",
       "    <tr>\n",
       "      <th>1</th>\n",
       "      <td>2019-08-02</td>\n",
       "      <td>1468.3</td>\n",
       "      <td>3734.9</td>\n",
       "    </tr>\n",
       "    <tr>\n",
       "      <th>2</th>\n",
       "      <td>2019-08-03</td>\n",
       "      <td>1815.2</td>\n",
       "      <td>5550.1</td>\n",
       "    </tr>\n",
       "    <tr>\n",
       "      <th>3</th>\n",
       "      <td>2019-08-04</td>\n",
       "      <td>675.5</td>\n",
       "      <td>6225.6</td>\n",
       "    </tr>\n",
       "    <tr>\n",
       "      <th>4</th>\n",
       "      <td>2019-08-05</td>\n",
       "      <td>1398.0</td>\n",
       "      <td>7623.6</td>\n",
       "    </tr>\n",
       "  </tbody>\n",
       "</table>\n",
       "</div>"
      ],
      "text/plain": [
       "        date  revenue  cumu_rev\n",
       "0 2019-08-01   2266.6    2266.6\n",
       "1 2019-08-02   1468.3    3734.9\n",
       "2 2019-08-03   1815.2    5550.1\n",
       "3 2019-08-04    675.5    6225.6\n",
       "4 2019-08-05   1398.0    7623.6"
      ]
     },
     "execution_count": 159,
     "metadata": {},
     "output_type": "execute_result"
    }
   ],
   "source": [
    "cum_rev_a['cumu_rev'] = cum_rev_a['revenue'].cumsum()\n",
    "cum_rev_a.head()"
   ]
  },
  {
   "cell_type": "code",
   "execution_count": 160,
   "id": "0bf71d37",
   "metadata": {},
   "outputs": [
    {
     "data": {
      "text/html": [
       "<div>\n",
       "<style scoped>\n",
       "    .dataframe tbody tr th:only-of-type {\n",
       "        vertical-align: middle;\n",
       "    }\n",
       "\n",
       "    .dataframe tbody tr th {\n",
       "        vertical-align: top;\n",
       "    }\n",
       "\n",
       "    .dataframe thead th {\n",
       "        text-align: right;\n",
       "    }\n",
       "</style>\n",
       "<table border=\"1\" class=\"dataframe\">\n",
       "  <thead>\n",
       "    <tr style=\"text-align: right;\">\n",
       "      <th></th>\n",
       "      <th>date</th>\n",
       "      <th>revenue</th>\n",
       "      <th>cumu_rev</th>\n",
       "    </tr>\n",
       "  </thead>\n",
       "  <tbody>\n",
       "    <tr>\n",
       "      <th>0</th>\n",
       "      <td>2019-08-01</td>\n",
       "      <td>967.2</td>\n",
       "      <td>967.2</td>\n",
       "    </tr>\n",
       "    <tr>\n",
       "      <th>1</th>\n",
       "      <td>2019-08-02</td>\n",
       "      <td>2568.1</td>\n",
       "      <td>3535.3</td>\n",
       "    </tr>\n",
       "    <tr>\n",
       "      <th>2</th>\n",
       "      <td>2019-08-03</td>\n",
       "      <td>1071.6</td>\n",
       "      <td>4606.9</td>\n",
       "    </tr>\n",
       "    <tr>\n",
       "      <th>3</th>\n",
       "      <td>2019-08-04</td>\n",
       "      <td>1531.6</td>\n",
       "      <td>6138.5</td>\n",
       "    </tr>\n",
       "    <tr>\n",
       "      <th>4</th>\n",
       "      <td>2019-08-05</td>\n",
       "      <td>1449.3</td>\n",
       "      <td>7587.8</td>\n",
       "    </tr>\n",
       "  </tbody>\n",
       "</table>\n",
       "</div>"
      ],
      "text/plain": [
       "        date  revenue  cumu_rev\n",
       "0 2019-08-01    967.2     967.2\n",
       "1 2019-08-02   2568.1    3535.3\n",
       "2 2019-08-03   1071.6    4606.9\n",
       "3 2019-08-04   1531.6    6138.5\n",
       "4 2019-08-05   1449.3    7587.8"
      ]
     },
     "execution_count": 160,
     "metadata": {},
     "output_type": "execute_result"
    }
   ],
   "source": [
    "cum_rev_b['cumu_rev'] = cum_rev_b['revenue'].cumsum()\n",
    "cum_rev_b.head()"
   ]
  },
  {
   "cell_type": "markdown",
   "id": "a107b122",
   "metadata": {},
   "source": [
    "Using the new columns, I can plot the cumulative revenue graphs."
   ]
  },
  {
   "cell_type": "code",
   "execution_count": 161,
   "id": "65a84349",
   "metadata": {
    "scrolled": false
   },
   "outputs": [
    {
     "data": {
      "image/png": "[encoded data removed]",
      "text/plain": [
       "<Figure size 1080x432 with 1 Axes>"
      ]
     },
     "metadata": {
      "needs_background": "light"
     },
     "output_type": "display_data"
    }
   ],
   "source": [
    "plt.rcParams[\"figure.figsize\"] = (15,6)\n",
    "plt.plot(cum_rev_a['date'], cum_rev_a['cumu_rev'], label='A')\n",
    "plt.plot(cum_rev_b['date'], cum_rev_b['cumu_rev'], label='B')\n",
    "plt.xlabel('date')\n",
    "plt.ylabel('cumulative revenue')\n",
    "plt.title('cumulative revenue through')\n",
    "plt.legend()\n",
    "plt.show()"
   ]
  },
  {
   "cell_type": "markdown",
   "id": "56e9f03f",
   "metadata": {},
   "source": [
    "Both groups have a steady rise through the tests. B seems to have a larger revenue during the beginning, but around the 18th of August, there was a big spike in graph B. That may do to a surge in the number of orders, or do to big and expensive orders.\n",
    "I'll look in to it latter."
   ]
  },
  {
   "cell_type": "markdown",
   "id": "dd68728c",
   "metadata": {},
   "source": [
    "## Cumulative average order size"
   ]
  },
  {
   "cell_type": "markdown",
   "id": "e7c13454",
   "metadata": {},
   "source": [
    "Now I'll fined the cumulative average purchase size.  \n",
    "To do so, I'll group the number of orders form the order_df table by day, then merge the new tables with the table from the privies task."
   ]
  },
  {
   "cell_type": "code",
   "execution_count": 162,
   "id": "55ac2518",
   "metadata": {},
   "outputs": [],
   "source": [
    "order_by_day_a = orders_a.groupby('date', as_index = False).agg({'transactionId':'nunique'})\n",
    "order_by_day_b = orders_b.groupby('date', as_index = False).agg({'transactionId':'nunique'})"
   ]
  },
  {
   "cell_type": "code",
   "execution_count": 163,
   "id": "568d72e9",
   "metadata": {},
   "outputs": [
    {
     "data": {
      "text/html": [
       "<div>\n",
       "<style scoped>\n",
       "    .dataframe tbody tr th:only-of-type {\n",
       "        vertical-align: middle;\n",
       "    }\n",
       "\n",
       "    .dataframe tbody tr th {\n",
       "        vertical-align: top;\n",
       "    }\n",
       "\n",
       "    .dataframe thead th {\n",
       "        text-align: right;\n",
       "    }\n",
       "</style>\n",
       "<table border=\"1\" class=\"dataframe\">\n",
       "  <thead>\n",
       "    <tr style=\"text-align: right;\">\n",
       "      <th></th>\n",
       "      <th>date</th>\n",
       "      <th>revenue</th>\n",
       "      <th>cumu_rev</th>\n",
       "      <th>transactionId</th>\n",
       "    </tr>\n",
       "  </thead>\n",
       "  <tbody>\n",
       "    <tr>\n",
       "      <th>0</th>\n",
       "      <td>2019-08-01</td>\n",
       "      <td>2266.6</td>\n",
       "      <td>2266.6</td>\n",
       "      <td>23</td>\n",
       "    </tr>\n",
       "    <tr>\n",
       "      <th>1</th>\n",
       "      <td>2019-08-02</td>\n",
       "      <td>1468.3</td>\n",
       "      <td>3734.9</td>\n",
       "      <td>19</td>\n",
       "    </tr>\n",
       "    <tr>\n",
       "      <th>2</th>\n",
       "      <td>2019-08-03</td>\n",
       "      <td>1815.2</td>\n",
       "      <td>5550.1</td>\n",
       "      <td>24</td>\n",
       "    </tr>\n",
       "    <tr>\n",
       "      <th>3</th>\n",
       "      <td>2019-08-04</td>\n",
       "      <td>675.5</td>\n",
       "      <td>6225.6</td>\n",
       "      <td>11</td>\n",
       "    </tr>\n",
       "    <tr>\n",
       "      <th>4</th>\n",
       "      <td>2019-08-05</td>\n",
       "      <td>1398.0</td>\n",
       "      <td>7623.6</td>\n",
       "      <td>22</td>\n",
       "    </tr>\n",
       "  </tbody>\n",
       "</table>\n",
       "</div>"
      ],
      "text/plain": [
       "        date  revenue  cumu_rev  transactionId\n",
       "0 2019-08-01   2266.6    2266.6             23\n",
       "1 2019-08-02   1468.3    3734.9             19\n",
       "2 2019-08-03   1815.2    5550.1             24\n",
       "3 2019-08-04    675.5    6225.6             11\n",
       "4 2019-08-05   1398.0    7623.6             22"
      ]
     },
     "execution_count": 163,
     "metadata": {},
     "output_type": "execute_result"
    }
   ],
   "source": [
    "cum_avg_order_a = cum_rev_a.merge(order_by_day_a, on = 'date', how = 'left')\n",
    "cum_avg_order_b = cum_rev_b.merge(order_by_day_b, on = 'date', how = 'left')\n",
    "cum_avg_order_a.head()"
   ]
  },
  {
   "cell_type": "code",
   "execution_count": 164,
   "id": "13b83ed9",
   "metadata": {},
   "outputs": [
    {
     "data": {
      "text/html": [
       "<div>\n",
       "<style scoped>\n",
       "    .dataframe tbody tr th:only-of-type {\n",
       "        vertical-align: middle;\n",
       "    }\n",
       "\n",
       "    .dataframe tbody tr th {\n",
       "        vertical-align: top;\n",
       "    }\n",
       "\n",
       "    .dataframe thead th {\n",
       "        text-align: right;\n",
       "    }\n",
       "</style>\n",
       "<table border=\"1\" class=\"dataframe\">\n",
       "  <thead>\n",
       "    <tr style=\"text-align: right;\">\n",
       "      <th></th>\n",
       "      <th>date</th>\n",
       "      <th>revenue</th>\n",
       "      <th>cumu_rev</th>\n",
       "      <th>transactionId</th>\n",
       "    </tr>\n",
       "  </thead>\n",
       "  <tbody>\n",
       "    <tr>\n",
       "      <th>0</th>\n",
       "      <td>2019-08-01</td>\n",
       "      <td>967.2</td>\n",
       "      <td>967.2</td>\n",
       "      <td>17</td>\n",
       "    </tr>\n",
       "    <tr>\n",
       "      <th>1</th>\n",
       "      <td>2019-08-02</td>\n",
       "      <td>2568.1</td>\n",
       "      <td>3535.3</td>\n",
       "      <td>23</td>\n",
       "    </tr>\n",
       "    <tr>\n",
       "      <th>2</th>\n",
       "      <td>2019-08-03</td>\n",
       "      <td>1071.6</td>\n",
       "      <td>4606.9</td>\n",
       "      <td>14</td>\n",
       "    </tr>\n",
       "    <tr>\n",
       "      <th>3</th>\n",
       "      <td>2019-08-04</td>\n",
       "      <td>1531.6</td>\n",
       "      <td>6138.5</td>\n",
       "      <td>14</td>\n",
       "    </tr>\n",
       "    <tr>\n",
       "      <th>4</th>\n",
       "      <td>2019-08-05</td>\n",
       "      <td>1449.3</td>\n",
       "      <td>7587.8</td>\n",
       "      <td>21</td>\n",
       "    </tr>\n",
       "  </tbody>\n",
       "</table>\n",
       "</div>"
      ],
      "text/plain": [
       "        date  revenue  cumu_rev  transactionId\n",
       "0 2019-08-01    967.2     967.2             17\n",
       "1 2019-08-02   2568.1    3535.3             23\n",
       "2 2019-08-03   1071.6    4606.9             14\n",
       "3 2019-08-04   1531.6    6138.5             14\n",
       "4 2019-08-05   1449.3    7587.8             21"
      ]
     },
     "execution_count": 164,
     "metadata": {},
     "output_type": "execute_result"
    }
   ],
   "source": [
    "cum_avg_order_b.head()"
   ]
  },
  {
   "cell_type": "markdown",
   "id": "10498b4c",
   "metadata": {},
   "source": [
    "After that, I can create a column that contains the cumulative number of orders.   \n",
    "Then, by dividing the cumulative revenue by the cumulative number of orders, I'll get the cumulative average order size."
   ]
  },
  {
   "cell_type": "code",
   "execution_count": 165,
   "id": "e66d284c",
   "metadata": {},
   "outputs": [
    {
     "data": {
      "text/html": [
       "<div>\n",
       "<style scoped>\n",
       "    .dataframe tbody tr th:only-of-type {\n",
       "        vertical-align: middle;\n",
       "    }\n",
       "\n",
       "    .dataframe tbody tr th {\n",
       "        vertical-align: top;\n",
       "    }\n",
       "\n",
       "    .dataframe thead th {\n",
       "        text-align: right;\n",
       "    }\n",
       "</style>\n",
       "<table border=\"1\" class=\"dataframe\">\n",
       "  <thead>\n",
       "    <tr style=\"text-align: right;\">\n",
       "      <th></th>\n",
       "      <th>date</th>\n",
       "      <th>revenue</th>\n",
       "      <th>cumu_rev</th>\n",
       "      <th>transactionId</th>\n",
       "      <th>cum_num_order</th>\n",
       "      <th>cum_avg_order</th>\n",
       "    </tr>\n",
       "  </thead>\n",
       "  <tbody>\n",
       "    <tr>\n",
       "      <th>0</th>\n",
       "      <td>2019-08-01</td>\n",
       "      <td>2266.6</td>\n",
       "      <td>2266.6</td>\n",
       "      <td>23</td>\n",
       "      <td>23</td>\n",
       "      <td>98.547826</td>\n",
       "    </tr>\n",
       "    <tr>\n",
       "      <th>1</th>\n",
       "      <td>2019-08-02</td>\n",
       "      <td>1468.3</td>\n",
       "      <td>3734.9</td>\n",
       "      <td>19</td>\n",
       "      <td>42</td>\n",
       "      <td>88.926190</td>\n",
       "    </tr>\n",
       "    <tr>\n",
       "      <th>2</th>\n",
       "      <td>2019-08-03</td>\n",
       "      <td>1815.2</td>\n",
       "      <td>5550.1</td>\n",
       "      <td>24</td>\n",
       "      <td>66</td>\n",
       "      <td>84.092424</td>\n",
       "    </tr>\n",
       "    <tr>\n",
       "      <th>3</th>\n",
       "      <td>2019-08-04</td>\n",
       "      <td>675.5</td>\n",
       "      <td>6225.6</td>\n",
       "      <td>11</td>\n",
       "      <td>77</td>\n",
       "      <td>80.851948</td>\n",
       "    </tr>\n",
       "    <tr>\n",
       "      <th>4</th>\n",
       "      <td>2019-08-05</td>\n",
       "      <td>1398.0</td>\n",
       "      <td>7623.6</td>\n",
       "      <td>22</td>\n",
       "      <td>99</td>\n",
       "      <td>77.006061</td>\n",
       "    </tr>\n",
       "  </tbody>\n",
       "</table>\n",
       "</div>"
      ],
      "text/plain": [
       "        date  revenue  cumu_rev  transactionId  cum_num_order  cum_avg_order\n",
       "0 2019-08-01   2266.6    2266.6             23             23      98.547826\n",
       "1 2019-08-02   1468.3    3734.9             19             42      88.926190\n",
       "2 2019-08-03   1815.2    5550.1             24             66      84.092424\n",
       "3 2019-08-04    675.5    6225.6             11             77      80.851948\n",
       "4 2019-08-05   1398.0    7623.6             22             99      77.006061"
      ]
     },
     "execution_count": 165,
     "metadata": {},
     "output_type": "execute_result"
    }
   ],
   "source": [
    "cum_avg_order_a['cum_num_order'] = cum_avg_order_a['transactionId'].cumsum()\n",
    "cum_avg_order_a['cum_avg_order'] = cum_avg_order_a['cumu_rev'] / cum_avg_order_a['cum_num_order']\n",
    "cum_avg_order_a.head()"
   ]
  },
  {
   "cell_type": "code",
   "execution_count": 166,
   "id": "2d34bc56",
   "metadata": {},
   "outputs": [
    {
     "data": {
      "text/html": [
       "<div>\n",
       "<style scoped>\n",
       "    .dataframe tbody tr th:only-of-type {\n",
       "        vertical-align: middle;\n",
       "    }\n",
       "\n",
       "    .dataframe tbody tr th {\n",
       "        vertical-align: top;\n",
       "    }\n",
       "\n",
       "    .dataframe thead th {\n",
       "        text-align: right;\n",
       "    }\n",
       "</style>\n",
       "<table border=\"1\" class=\"dataframe\">\n",
       "  <thead>\n",
       "    <tr style=\"text-align: right;\">\n",
       "      <th></th>\n",
       "      <th>date</th>\n",
       "      <th>revenue</th>\n",
       "      <th>cumu_rev</th>\n",
       "      <th>transactionId</th>\n",
       "      <th>cum_num_order</th>\n",
       "      <th>cum_avg_order</th>\n",
       "    </tr>\n",
       "  </thead>\n",
       "  <tbody>\n",
       "    <tr>\n",
       "      <th>0</th>\n",
       "      <td>2019-08-01</td>\n",
       "      <td>967.2</td>\n",
       "      <td>967.2</td>\n",
       "      <td>17</td>\n",
       "      <td>17</td>\n",
       "      <td>56.894118</td>\n",
       "    </tr>\n",
       "    <tr>\n",
       "      <th>1</th>\n",
       "      <td>2019-08-02</td>\n",
       "      <td>2568.1</td>\n",
       "      <td>3535.3</td>\n",
       "      <td>23</td>\n",
       "      <td>40</td>\n",
       "      <td>88.382500</td>\n",
       "    </tr>\n",
       "    <tr>\n",
       "      <th>2</th>\n",
       "      <td>2019-08-03</td>\n",
       "      <td>1071.6</td>\n",
       "      <td>4606.9</td>\n",
       "      <td>14</td>\n",
       "      <td>54</td>\n",
       "      <td>85.312963</td>\n",
       "    </tr>\n",
       "    <tr>\n",
       "      <th>3</th>\n",
       "      <td>2019-08-04</td>\n",
       "      <td>1531.6</td>\n",
       "      <td>6138.5</td>\n",
       "      <td>14</td>\n",
       "      <td>68</td>\n",
       "      <td>90.272059</td>\n",
       "    </tr>\n",
       "    <tr>\n",
       "      <th>4</th>\n",
       "      <td>2019-08-05</td>\n",
       "      <td>1449.3</td>\n",
       "      <td>7587.8</td>\n",
       "      <td>21</td>\n",
       "      <td>89</td>\n",
       "      <td>85.256180</td>\n",
       "    </tr>\n",
       "  </tbody>\n",
       "</table>\n",
       "</div>"
      ],
      "text/plain": [
       "        date  revenue  cumu_rev  transactionId  cum_num_order  cum_avg_order\n",
       "0 2019-08-01    967.2     967.2             17             17      56.894118\n",
       "1 2019-08-02   2568.1    3535.3             23             40      88.382500\n",
       "2 2019-08-03   1071.6    4606.9             14             54      85.312963\n",
       "3 2019-08-04   1531.6    6138.5             14             68      90.272059\n",
       "4 2019-08-05   1449.3    7587.8             21             89      85.256180"
      ]
     },
     "execution_count": 166,
     "metadata": {},
     "output_type": "execute_result"
    }
   ],
   "source": [
    "cum_avg_order_b['cum_num_order'] = cum_avg_order_b['transactionId'].cumsum()\n",
    "cum_avg_order_b['cum_avg_order'] = cum_avg_order_b['cumu_rev'] / cum_avg_order_b['cum_num_order']\n",
    "cum_avg_order_b.head()"
   ]
  },
  {
   "cell_type": "markdown",
   "id": "37ffefef",
   "metadata": {},
   "source": [
    "Now I can plot the graphs."
   ]
  },
  {
   "cell_type": "code",
   "execution_count": 167,
   "id": "04cd1638",
   "metadata": {},
   "outputs": [
    {
     "data": {
      "image/png": "[encoded data removed]",
      "text/plain": [
       "<Figure size 1080x432 with 1 Axes>"
      ]
     },
     "metadata": {
      "needs_background": "light"
     },
     "output_type": "display_data"
    }
   ],
   "source": [
    "plt.rcParams[\"figure.figsize\"] = (15,6)\n",
    "plt.plot(cum_avg_order_a['date'], cum_avg_order_a['cum_avg_order'], label='A')\n",
    "plt.plot(cum_avg_order_b['date'], cum_avg_order_b['cum_avg_order'], label='B')\n",
    "plt.xlabel('date')\n",
    "plt.ylabel('cumulative avreg order size')\n",
    "plt.title('comulative avrege order size through time')\n",
    "plt.legend()\n",
    "plt.show()"
   ]
  },
  {
   "cell_type": "markdown",
   "id": "e76865cd",
   "metadata": {},
   "source": [
    "We can see that graph B has become steady after the 17th and A after the 13th. graph A has stabilized and graph B is falling.\n",
    "The big fall in the beginning for group A, and the 2 big surges for group B May be due to abnormal purchase sizes.  "
   ]
  },
  {
   "cell_type": "markdown",
   "id": "fbc17da6",
   "metadata": {},
   "source": [
    "## Relative difference in cumulative average order size"
   ]
  },
  {
   "cell_type": "markdown",
   "id": "8d208933",
   "metadata": {},
   "source": [
    "To fined the relative difference in average order size, first I need to merge the two tables together. "
   ]
  },
  {
   "cell_type": "code",
   "execution_count": 168,
   "id": "d6808999",
   "metadata": {},
   "outputs": [
    {
     "data": {
      "text/html": [
       "<div>\n",
       "<style scoped>\n",
       "    .dataframe tbody tr th:only-of-type {\n",
       "        vertical-align: middle;\n",
       "    }\n",
       "\n",
       "    .dataframe tbody tr th {\n",
       "        vertical-align: top;\n",
       "    }\n",
       "\n",
       "    .dataframe thead th {\n",
       "        text-align: right;\n",
       "    }\n",
       "</style>\n",
       "<table border=\"1\" class=\"dataframe\">\n",
       "  <thead>\n",
       "    <tr style=\"text-align: right;\">\n",
       "      <th></th>\n",
       "      <th>date</th>\n",
       "      <th>revenueA</th>\n",
       "      <th>cumu_revA</th>\n",
       "      <th>transactionIdA</th>\n",
       "      <th>cum_num_orderA</th>\n",
       "      <th>cum_avg_orderA</th>\n",
       "      <th>revenueB</th>\n",
       "      <th>cumu_revB</th>\n",
       "      <th>transactionIdB</th>\n",
       "      <th>cum_num_orderB</th>\n",
       "      <th>cum_avg_orderB</th>\n",
       "    </tr>\n",
       "  </thead>\n",
       "  <tbody>\n",
       "    <tr>\n",
       "      <th>0</th>\n",
       "      <td>2019-08-01</td>\n",
       "      <td>2266.6</td>\n",
       "      <td>2266.6</td>\n",
       "      <td>23</td>\n",
       "      <td>23</td>\n",
       "      <td>98.547826</td>\n",
       "      <td>967.2</td>\n",
       "      <td>967.2</td>\n",
       "      <td>17</td>\n",
       "      <td>17</td>\n",
       "      <td>56.894118</td>\n",
       "    </tr>\n",
       "    <tr>\n",
       "      <th>1</th>\n",
       "      <td>2019-08-02</td>\n",
       "      <td>1468.3</td>\n",
       "      <td>3734.9</td>\n",
       "      <td>19</td>\n",
       "      <td>42</td>\n",
       "      <td>88.926190</td>\n",
       "      <td>2568.1</td>\n",
       "      <td>3535.3</td>\n",
       "      <td>23</td>\n",
       "      <td>40</td>\n",
       "      <td>88.382500</td>\n",
       "    </tr>\n",
       "    <tr>\n",
       "      <th>2</th>\n",
       "      <td>2019-08-03</td>\n",
       "      <td>1815.2</td>\n",
       "      <td>5550.1</td>\n",
       "      <td>24</td>\n",
       "      <td>66</td>\n",
       "      <td>84.092424</td>\n",
       "      <td>1071.6</td>\n",
       "      <td>4606.9</td>\n",
       "      <td>14</td>\n",
       "      <td>54</td>\n",
       "      <td>85.312963</td>\n",
       "    </tr>\n",
       "    <tr>\n",
       "      <th>3</th>\n",
       "      <td>2019-08-04</td>\n",
       "      <td>675.5</td>\n",
       "      <td>6225.6</td>\n",
       "      <td>11</td>\n",
       "      <td>77</td>\n",
       "      <td>80.851948</td>\n",
       "      <td>1531.6</td>\n",
       "      <td>6138.5</td>\n",
       "      <td>14</td>\n",
       "      <td>68</td>\n",
       "      <td>90.272059</td>\n",
       "    </tr>\n",
       "    <tr>\n",
       "      <th>4</th>\n",
       "      <td>2019-08-05</td>\n",
       "      <td>1398.0</td>\n",
       "      <td>7623.6</td>\n",
       "      <td>22</td>\n",
       "      <td>99</td>\n",
       "      <td>77.006061</td>\n",
       "      <td>1449.3</td>\n",
       "      <td>7587.8</td>\n",
       "      <td>21</td>\n",
       "      <td>89</td>\n",
       "      <td>85.256180</td>\n",
       "    </tr>\n",
       "  </tbody>\n",
       "</table>\n",
       "</div>"
      ],
      "text/plain": [
       "        date  revenueA  cumu_revA  transactionIdA  cum_num_orderA  \\\n",
       "0 2019-08-01    2266.6     2266.6              23              23   \n",
       "1 2019-08-02    1468.3     3734.9              19              42   \n",
       "2 2019-08-03    1815.2     5550.1              24              66   \n",
       "3 2019-08-04     675.5     6225.6              11              77   \n",
       "4 2019-08-05    1398.0     7623.6              22              99   \n",
       "\n",
       "   cum_avg_orderA  revenueB  cumu_revB  transactionIdB  cum_num_orderB  \\\n",
       "0       98.547826     967.2      967.2              17              17   \n",
       "1       88.926190    2568.1     3535.3              23              40   \n",
       "2       84.092424    1071.6     4606.9              14              54   \n",
       "3       80.851948    1531.6     6138.5              14              68   \n",
       "4       77.006061    1449.3     7587.8              21              89   \n",
       "\n",
       "   cum_avg_orderB  \n",
       "0       56.894118  \n",
       "1       88.382500  \n",
       "2       85.312963  \n",
       "3       90.272059  \n",
       "4       85.256180  "
      ]
     },
     "execution_count": 168,
     "metadata": {},
     "output_type": "execute_result"
    }
   ],
   "source": [
    "merg_grp_cum = cum_avg_order_a.merge(cum_avg_order_b, left_on = 'date', right_on = 'date', how = 'left', suffixes=['A', 'B'])\n",
    "merg_grp_cum.head()"
   ]
  },
  {
   "cell_type": "markdown",
   "id": "48ee1390",
   "metadata": {},
   "source": [
    "Now that I have merged the tables, I can create a graph that shows the relative difference in cumulative average order size.  \n",
    "I'll do that by dividing the cumulative average order size of group B by A's cumulative average order size."
   ]
  },
  {
   "cell_type": "code",
   "execution_count": 169,
   "id": "2fda2710",
   "metadata": {},
   "outputs": [
    {
     "data": {
      "image/png": "[encoded data removed]",
      "text/plain": [
       "<Figure size 1080x432 with 1 Axes>"
      ]
     },
     "metadata": {
      "needs_background": "light"
     },
     "output_type": "display_data"
    }
   ],
   "source": [
    "merg_grp_cum['rlv_def_cum_avg_ord'] = merg_grp_cum['cum_avg_orderB']/merg_grp_cum['cum_avg_orderA'] -1\n",
    "\n",
    "plt.rcParams[\"figure.figsize\"] = (15,6)\n",
    "plt.plot(merg_grp_cum['date'], merg_grp_cum['rlv_def_cum_avg_ord'])\n",
    "plt.axhline(y=0, color='black', linestyle='--')\n",
    "plt.xlabel('date')\n",
    "plt.ylabel('Relative difference in cumulative average order size')\n",
    "plt.title('Relative difference in cumulative average order size through time')\n",
    "plt.show()"
   ]
  },
  {
   "cell_type": "markdown",
   "id": "ff06fd89",
   "metadata": {},
   "source": [
    "It seems that there are some huge spikes, it means that without a doubt there are some big orders and outliers.  "
   ]
  },
  {
   "cell_type": "markdown",
   "id": "ae0d6adc",
   "metadata": {},
   "source": [
    "## Group's conversion rate"
   ]
  },
  {
   "cell_type": "markdown",
   "id": "d5bc94c8",
   "metadata": {},
   "source": [
    "I'll calculate each group's conversion rate from visits to orders each day.   \n",
    "To do so, first I'll need to divide the visits_df column to groups, and merge the new tables with the groups tables. "
   ]
  },
  {
   "cell_type": "code",
   "execution_count": 170,
   "id": "19aea065",
   "metadata": {},
   "outputs": [],
   "source": [
    "visits_df_a = visits_df[visits_df['group'] == 'A']\n",
    "visits_df_b = visits_df[visits_df['group'] == 'B']"
   ]
  },
  {
   "cell_type": "code",
   "execution_count": 171,
   "id": "4e2b527f",
   "metadata": {},
   "outputs": [],
   "source": [
    "group_a = cum_avg_order_a.merge(visits_df_a, on = 'date', how = 'left')\n",
    "group_b = cum_avg_order_b.merge(visits_df_b, on = 'date', how = 'left')"
   ]
  },
  {
   "cell_type": "markdown",
   "id": "90e24acd",
   "metadata": {},
   "source": [
    "Now, for each table, I'll create a cum_visits column, that will contain the cumulative number of visits."
   ]
  },
  {
   "cell_type": "code",
   "execution_count": 172,
   "id": "0b587829",
   "metadata": {},
   "outputs": [],
   "source": [
    "group_a['cum_visits'] = group_a['visits'].cumsum()\n",
    "group_b['cum_visits'] = group_b['visits'].cumsum()"
   ]
  },
  {
   "cell_type": "markdown",
   "id": "63420b97",
   "metadata": {},
   "source": [
    "Now I can create the conversion rate column, by dividing the cumulative number of orders by the cumulative number of visits."
   ]
  },
  {
   "cell_type": "code",
   "execution_count": 173,
   "id": "9df76586",
   "metadata": {},
   "outputs": [],
   "source": [
    "group_a['conversion_rate'] = group_a['cum_num_order'] / group_a['cum_visits']\n",
    "group_b['conversion_rate'] = group_b['cum_num_order'] / group_b['cum_visits']"
   ]
  },
  {
   "cell_type": "code",
   "execution_count": 174,
   "id": "f39d4025",
   "metadata": {},
   "outputs": [
    {
     "data": {
      "image/png": "[encoded data removed]",
      "text/plain": [
       "<Figure size 1080x432 with 1 Axes>"
      ]
     },
     "metadata": {
      "needs_background": "light"
     },
     "output_type": "display_data"
    }
   ],
   "source": [
    "plt.rcParams[\"figure.figsize\"] = (15,6)\n",
    "plt.plot(group_a['date'], group_a['conversion_rate'], label='A')\n",
    "plt.plot(group_b['date'], group_b['conversion_rate'], label='B')\n",
    "plt.xlabel('date')\n",
    "plt.ylabel('Groups conversion rate')\n",
    "plt.title('coversion rate through time')\n",
    "plt.legend()\n",
    "plt.show()"
   ]
  },
  {
   "cell_type": "markdown",
   "id": "5b362510",
   "metadata": {},
   "source": [
    "Seems like both graphs in the beginning experience really big spikes in conversion rate, bot then stabilize after the 5th.  \n",
    "B's conversion is around 3% conversion, and A's around 2.6%. after B's unstable spike, it rouse back will A got lower."
   ]
  },
  {
   "cell_type": "markdown",
   "id": "d9ccf317",
   "metadata": {},
   "source": [
    "## Number of orders per user"
   ]
  },
  {
   "cell_type": "markdown",
   "id": "c1d889d6",
   "metadata": {},
   "source": [
    "Lets see a scatter plot that shows the number of orders per user. I'll group the number of orders by visitorId. "
   ]
  },
  {
   "cell_type": "code",
   "execution_count": 175,
   "id": "88107292",
   "metadata": {},
   "outputs": [
    {
     "data": {
      "text/html": [
       "<div>\n",
       "<style scoped>\n",
       "    .dataframe tbody tr th:only-of-type {\n",
       "        vertical-align: middle;\n",
       "    }\n",
       "\n",
       "    .dataframe tbody tr th {\n",
       "        vertical-align: top;\n",
       "    }\n",
       "\n",
       "    .dataframe thead th {\n",
       "        text-align: right;\n",
       "    }\n",
       "</style>\n",
       "<table border=\"1\" class=\"dataframe\">\n",
       "  <thead>\n",
       "    <tr style=\"text-align: right;\">\n",
       "      <th></th>\n",
       "      <th>visitorId</th>\n",
       "      <th>num_orders</th>\n",
       "    </tr>\n",
       "  </thead>\n",
       "  <tbody>\n",
       "    <tr>\n",
       "      <th>0</th>\n",
       "      <td>5114589</td>\n",
       "      <td>1</td>\n",
       "    </tr>\n",
       "    <tr>\n",
       "      <th>1</th>\n",
       "      <td>6958315</td>\n",
       "      <td>1</td>\n",
       "    </tr>\n",
       "    <tr>\n",
       "      <th>2</th>\n",
       "      <td>11685486</td>\n",
       "      <td>1</td>\n",
       "    </tr>\n",
       "    <tr>\n",
       "      <th>3</th>\n",
       "      <td>39475350</td>\n",
       "      <td>1</td>\n",
       "    </tr>\n",
       "    <tr>\n",
       "      <th>4</th>\n",
       "      <td>47206413</td>\n",
       "      <td>1</td>\n",
       "    </tr>\n",
       "  </tbody>\n",
       "</table>\n",
       "</div>"
      ],
      "text/plain": [
       "   visitorId  num_orders\n",
       "0    5114589           1\n",
       "1    6958315           1\n",
       "2   11685486           1\n",
       "3   39475350           1\n",
       "4   47206413           1"
      ]
     },
     "execution_count": 175,
     "metadata": {},
     "output_type": "execute_result"
    }
   ],
   "source": [
    "num_ord_usr = orders_df.groupby('visitorId', as_index = False).agg({'transactionId':'nunique'})\n",
    "num_ord_usr.columns = ['visitorId','num_orders']\n",
    "num_ord_usr.head()"
   ]
  },
  {
   "cell_type": "code",
   "execution_count": 226,
   "id": "cc9ffeca",
   "metadata": {},
   "outputs": [
    {
     "data": {
      "image/png": "[encoded data removed]",
      "text/plain": [
       "<Figure size 1080x432 with 1 Axes>"
      ]
     },
     "metadata": {
      "needs_background": "light"
     },
     "output_type": "display_data"
    }
   ],
   "source": [
    "x_values = pd.Series(range(0,len(num_ord_usr)))\n",
    "plt.scatter(x_values,num_ord_usr['num_orders'])\n",
    "plt.xlabel('users')\n",
    "plt.ylabel('number of orders')\n",
    "plt.title('number of orders per user')\n",
    "plt.show()"
   ]
  },
  {
   "cell_type": "markdown",
   "id": "d79b6a14",
   "metadata": {},
   "source": [
    "We see that the vast majority of users only make one order, then there are sum that make two orders and very few how make 3 orders.  \n",
    "It's hard to say if I need to consider the small few that have made 3 orders."
   ]
  },
  {
   "cell_type": "markdown",
   "id": "465e690f",
   "metadata": {},
   "source": [
    "## Percentiles for the number of orders"
   ]
  },
  {
   "cell_type": "markdown",
   "id": "facdb974",
   "metadata": {},
   "source": [
    "Using percentiles, I'll see if the visitors that made more then 1 order take a big percentage of the hole population."
   ]
  },
  {
   "cell_type": "code",
   "execution_count": 177,
   "id": "14af8a28",
   "metadata": {},
   "outputs": [
    {
     "data": {
      "text/plain": [
       "array([1., 2.])"
      ]
     },
     "execution_count": 177,
     "metadata": {},
     "output_type": "execute_result"
    }
   ],
   "source": [
    "np.percentile(num_ord_usr['num_orders'], [95,99])"
   ]
  },
  {
   "cell_type": "markdown",
   "id": "db7d6f23",
   "metadata": {},
   "source": [
    "no more then 5% of users made more then 1 order, and no more then 1% made more then 2 orders.  \n",
    "From this results, I'd say that 1 order should be the upper limit, and remove every thing above it. "
   ]
  },
  {
   "cell_type": "markdown",
   "id": "95ca247d",
   "metadata": {},
   "source": [
    "## Order prices"
   ]
  },
  {
   "cell_type": "markdown",
   "id": "d9249ca3",
   "metadata": {},
   "source": [
    "Lets find the order price. I can create a scatter plot, that will give me a better idea of the situation."
   ]
  },
  {
   "cell_type": "code",
   "execution_count": 227,
   "id": "3b392054",
   "metadata": {},
   "outputs": [
    {
     "data": {
      "image/png": "[encoded data removed]",
      "text/plain": [
       "<Figure size 1080x432 with 1 Axes>"
      ]
     },
     "metadata": {
      "needs_background": "light"
     },
     "output_type": "display_data"
    }
   ],
   "source": [
    "x_values = pd.Series(range(0,len(orders_df['revenue'])))\n",
    "plt.scatter(x_values,orders_df['revenue'])\n",
    "plt.xlabel('orders')\n",
    "plt.ylabel('revenue')\n",
    "plt.title('renemue per order')\n",
    "plt.show()"
   ]
  },
  {
   "cell_type": "markdown",
   "id": "a04381f3",
   "metadata": {},
   "source": [
    "Dos not seem like most orders pass the 2500."
   ]
  },
  {
   "cell_type": "markdown",
   "id": "157eb80a",
   "metadata": {},
   "source": [
    "## Percentiles of order prices"
   ]
  },
  {
   "cell_type": "markdown",
   "id": "5a8e488f",
   "metadata": {},
   "source": [
    "Using percentiles, I can see what prices are considered abnormal for an average order. "
   ]
  },
  {
   "cell_type": "code",
   "execution_count": 179,
   "id": "525c223a",
   "metadata": {},
   "outputs": [
    {
     "data": {
      "text/plain": [
       "array([414.275, 830.3  ])"
      ]
     },
     "execution_count": 179,
     "metadata": {},
     "output_type": "execute_result"
    }
   ],
   "source": [
    "np.percentile(orders_df['revenue'], [95,99])"
   ]
  },
  {
   "cell_type": "markdown",
   "id": "2351cc6b",
   "metadata": {},
   "source": [
    "5% of orders are more expensive then 415, and 1% are more expensive then 830. There is no need to consider prices that are more then 415, so we can take out the anomalies."
   ]
  },
  {
   "cell_type": "markdown",
   "id": "79db8030",
   "metadata": {},
   "source": [
    "Lets see a scatter plot without the outliers."
   ]
  },
  {
   "cell_type": "code",
   "execution_count": 228,
   "id": "6cf05a5d",
   "metadata": {},
   "outputs": [
    {
     "data": {
      "image/png": "[encoded data removed]",
      "text/plain": [
       "<Figure size 1080x432 with 1 Axes>"
      ]
     },
     "metadata": {
      "needs_background": "light"
     },
     "output_type": "display_data"
    }
   ],
   "source": [
    "orders_df_no_anoma = orders_df[orders_df['revenue'] <= 415]\n",
    "\n",
    "x_values = pd.Series(range(0,len(orders_df_no_anoma['revenue'])))\n",
    "plt.scatter(x_values,orders_df_no_anoma['revenue'])\n",
    "plt.xlabel('orders')\n",
    "plt.ylabel('revenue')\n",
    "plt.title('revenue per order')\n",
    "plt.show()"
   ]
  },
  {
   "cell_type": "markdown",
   "id": "184a6b7b",
   "metadata": {},
   "source": [
    "This seems better. the orders are more scattered around, and it's hard to see if there are outliers. There is a higher concentration around 50$ but nothing to dramatic."
   ]
  },
  {
   "cell_type": "markdown",
   "id": "de712635",
   "metadata": {},
   "source": [
    "## Statistical significance of the difference in conversion - raw data"
   ]
  },
  {
   "cell_type": "markdown",
   "id": "88695cc6",
   "metadata": {},
   "source": [
    "Lets see if there is statistical significance of difference in conversion in groups.  \n",
    "To do that, first lets create a two samples that contains a list of the number of orders for each user in each group, and zeros for users how did not order anything. "
   ]
  },
  {
   "cell_type": "code",
   "execution_count": 180,
   "id": "ff103a66",
   "metadata": {},
   "outputs": [],
   "source": [
    "order_by_user_a = orders_df[orders_df['group'] == 'A'].groupby('visitorId', as_index = False).agg({'transactionId':'nunique'})\n",
    "order_by_user_a.columns = ['user','orders']"
   ]
  },
  {
   "cell_type": "code",
   "execution_count": 181,
   "id": "997f107b",
   "metadata": {},
   "outputs": [],
   "source": [
    "order_by_user_b = orders_df[orders_df['group'] == 'B'].groupby('visitorId', as_index = False).agg({'transactionId':'nunique'})\n",
    "order_by_user_b.columns = ['user','orders']"
   ]
  },
  {
   "cell_type": "code",
   "execution_count": 182,
   "id": "1ae41deb",
   "metadata": {},
   "outputs": [],
   "source": [
    "sample_a = pd.concat(\n",
    "    [\n",
    "        order_by_user_a['orders'],pd\n",
    "        .Series(\n",
    "            0, index=np\n",
    "            .arange(visits_df[visits_df['group'] == 'A']['visits'].sum() - len(order_by_user_a['orders'])), name='orders'\n",
    "        )\n",
    "    ],axis=0\n",
    ")"
   ]
  },
  {
   "cell_type": "code",
   "execution_count": 183,
   "id": "7cc7df8f",
   "metadata": {},
   "outputs": [],
   "source": [
    "sample_b = pd.concat(\n",
    "    [\n",
    "        order_by_user_b['orders'],pd\n",
    "        .Series(\n",
    "            0, index=np\n",
    "            .arange(visits_df[visits_df['group'] == 'B']['visits'].sum() - len(order_by_user_b['orders'])), name='orders'\n",
    "        )\n",
    "    ],axis=0\n",
    ")"
   ]
  },
  {
   "cell_type": "markdown",
   "id": "77fe9013",
   "metadata": {},
   "source": [
    "Now I'll create a function that will check if the samples have a normal distribution using the Shapiro method, and according to the result I will pass the samples in either the Mannwhitneyu method, or in the ttest method, if they have a normal distribution then ttest, otherwise Mannwhitneyu. By applying this function, I can see if there is a Statistical significance of the difference in conversion."
   ]
  },
  {
   "cell_type": "markdown",
   "id": "c8282d71",
   "metadata": {},
   "source": [
    "H0 : conversion in group A == conversion in group B   \n",
    "H1 : conversion in group A != conversion in group B"
   ]
  },
  {
   "cell_type": "markdown",
   "id": "4f81c85f",
   "metadata": {},
   "source": [
    "I can see the method that is going to be used by crating a histogram. if the graphs wont be skewed, then the data has a normal distribution and I'll use the the ttest, otherwise we I'll use the Mannwhitneyu "
   ]
  },
  {
   "cell_type": "code",
   "execution_count": 209,
   "id": "e9bb08db",
   "metadata": {},
   "outputs": [
    {
     "data": {
      "image/png": "[encoded data removed]",
      "text/plain": [
       "<Figure size 1080x432 with 1 Axes>"
      ]
     },
     "metadata": {
      "needs_background": "light"
     },
     "output_type": "display_data"
    }
   ],
   "source": [
    "plt.hist(group_a['conversion_rate'], alpha=0.5, label='A')\n",
    "plt.hist(group_b['conversion_rate'], alpha=0.5, label='B')\n",
    "plt.legend(loc='upper right')\n",
    "plt.xlabel('percentage of conversion')\n",
    "plt.ylabel('number of days')\n",
    "plt.title('conversion rate')\n",
    "plt.show()"
   ]
  },
  {
   "cell_type": "markdown",
   "id": "1aebf57c",
   "metadata": {},
   "source": [
    "Mannwhitneyu it is"
   ]
  },
  {
   "cell_type": "code",
   "execution_count": 185,
   "id": "df08399a",
   "metadata": {},
   "outputs": [],
   "source": [
    "def testing_average(sample1,sample2,alpha=0.05):\n",
    "    \n",
    "    sample1=sample1.dropna()\n",
    "    sample2=sample2.dropna()\n",
    "    results1=st.shapiro(sample1)\n",
    "    results2=st.shapiro(sample2)\n",
    "    p1_norm = results1[1]\n",
    "    p2_norm = results2[1]\n",
    "    if ((p1_norm > alpha) and (p2_norm>alpha)):\n",
    "        \n",
    "        \n",
    "        p_levene=st.levene(sample1, sample2)\n",
    "        if p_levene<alpha:\n",
    "           \n",
    "            p_value=st.ttest_ind(sample1, sample2,equal_var=False)\n",
    "        else:\n",
    "            p_value=st.ttest_ind(sample1, sample2,equal_var=True) \n",
    "    else:\n",
    "        p_value=st.mannwhitneyu(sample1, sample2)[1]\n",
    "    print(p_value)\n",
    "    if p_value<alpha:\n",
    "        print('Reject H0')\n",
    "    else:\n",
    "        print('Fail to Reject H0')\n",
    "    print(\"{0:.3f}\".format(sample2.mean()/sample1.mean()-1))"
   ]
  },
  {
   "cell_type": "code",
   "execution_count": 186,
   "id": "689bc4e6",
   "metadata": {},
   "outputs": [
    {
     "name": "stdout",
     "output_type": "stream",
     "text": [
      "0.011018084110014696\n",
      "Reject H0\n",
      "0.160\n"
     ]
    },
    {
     "name": "stderr",
     "output_type": "stream",
     "text": [
      "C:\\programing files\\lib\\site-packages\\scipy\\stats\\morestats.py:1760: UserWarning: p-value may not be accurate for N > 5000.\n",
      "  warnings.warn(\"p-value may not be accurate for N > 5000.\")\n"
     ]
    }
   ],
   "source": [
    "testing_average(sample_a,sample_b,alpha=0.05)"
   ]
  },
  {
   "cell_type": "markdown",
   "id": "396cffc6",
   "metadata": {},
   "source": [
    "If we are going according to the raw data, there is a statistically significant difference in conversion between the groups. And the relative gain of group B is 16%."
   ]
  },
  {
   "cell_type": "markdown",
   "id": "2fd57082",
   "metadata": {},
   "source": [
    "## Statistical significance of the difference in average order size - raw data"
   ]
  },
  {
   "cell_type": "markdown",
   "id": "96ef630b",
   "metadata": {},
   "source": [
    "Lets fined the Statistical significance of the difference in average order size, by doing the same thing as before bot for revenue per order."
   ]
  },
  {
   "cell_type": "code",
   "execution_count": 187,
   "id": "009b1006",
   "metadata": {},
   "outputs": [],
   "source": [
    "avg_orders_revenue_a = orders_a['revenue']\n",
    "avg_orders_revenue_b = orders_b['revenue']"
   ]
  },
  {
   "cell_type": "markdown",
   "id": "6d951946",
   "metadata": {},
   "source": [
    "Using the function from before, I'm going to see if there is statistical significance.  \n",
    "\n",
    "H0: average order size in group A == average order size in group B.  \n",
    "H1: average order size in group A != average order size in group B"
   ]
  },
  {
   "cell_type": "markdown",
   "id": "1d07def1",
   "metadata": {},
   "source": [
    "lets see what method I'm going to use."
   ]
  },
  {
   "cell_type": "code",
   "execution_count": 201,
   "id": "60fc58d6",
   "metadata": {},
   "outputs": [
    {
     "data": {
      "image/png": "[encoded data removed]",
      "text/plain": [
       "<Figure size 1080x432 with 1 Axes>"
      ]
     },
     "metadata": {
      "needs_background": "light"
     },
     "output_type": "display_data"
    }
   ],
   "source": [
    "plt.hist(orders_a['revenue'], alpha=0.5, label='A')\n",
    "plt.hist(orders_b['revenue'], alpha=0.5, label='B')\n",
    "plt.legend(loc='upper right')\n",
    "plt.xlabel('price')\n",
    "plt.ylabel('number of days')\n",
    "plt.title('avrege order revenue')\n",
    "plt.show()"
   ]
  },
  {
   "cell_type": "markdown",
   "id": "e8ef1be2",
   "metadata": {},
   "source": [
    "Mannwhitneyu again "
   ]
  },
  {
   "cell_type": "code",
   "execution_count": 202,
   "id": "0e6b1842",
   "metadata": {},
   "outputs": [
    {
     "name": "stdout",
     "output_type": "stream",
     "text": [
      "0.8622329690015668\n",
      "Fail to Reject H0\n",
      "0.278\n"
     ]
    }
   ],
   "source": [
    "testing_average(avg_orders_revenue_a,avg_orders_revenue_b,alpha=0.05)"
   ]
  },
  {
   "cell_type": "markdown",
   "id": "9e900c67",
   "metadata": {},
   "source": [
    "According to the raw data, there is no Statistical significance of the difference in average order size. Nonetheless, group B's average order size is 27.8% bigger then group A's."
   ]
  },
  {
   "cell_type": "markdown",
   "id": "5d7d7e53",
   "metadata": {},
   "source": [
    " ## Statistical significance of the difference in conversion - filtered data"
   ]
  },
  {
   "cell_type": "markdown",
   "id": "ff5cadd5",
   "metadata": {},
   "source": [
    "Now I'm going find if there is a Statistical significance of the difference in conversion, but this time I'm going to use filtered data. This is so I can see how much the abnormalities skew the data.  \n",
    "To create the filtered data, first I need to define the anomalies. According to the scatter plot and the percentile, I'd say to define every thing above one order, as an anomaly. "
   ]
  },
  {
   "cell_type": "code",
   "execution_count": 189,
   "id": "f0e90b8b",
   "metadata": {},
   "outputs": [],
   "source": [
    "order_num_anomaly = (\n",
    "    pd.concat(\n",
    "    [\n",
    "        order_by_user_a[order_by_user_a['orders'] > 1]['user'], order_by_user_b[order_by_user_b['orders'] > 1]['user']\n",
    "    ], axis = 0\n",
    ")\n",
    "                    )"
   ]
  },
  {
   "cell_type": "code",
   "execution_count": 190,
   "id": "93ec4a78",
   "metadata": {},
   "outputs": [],
   "source": [
    "sample_a_filtered = pd.concat(\n",
    "    [order_by_user_a[np.logical_not(order_by_user_a['user'].isin(order_num_anomaly))]['orders'],pd\n",
    "        .Series(\n",
    "            0, index=np\n",
    "            .arange(visits_df[visits_df['group'] == 'A']['visits'].sum() - len(order_by_user_a['orders'])), name='orders'\n",
    "        )\n",
    "    ],axis=0\n",
    ") "
   ]
  },
  {
   "cell_type": "code",
   "execution_count": 191,
   "id": "a2e19568",
   "metadata": {},
   "outputs": [],
   "source": [
    "sample_b_filtered = pd.concat(\n",
    "    [order_by_user_b[np.logical_not(order_by_user_b['user'].isin(order_num_anomaly))]['orders'],pd\n",
    "        .Series(\n",
    "            0, index=np\n",
    "            .arange(visits_df[visits_df['group'] == 'B']['visits'].sum() - len(order_by_user_b['orders'])), name='orders'\n",
    "        )\n",
    "    ],axis=0\n",
    ") "
   ]
  },
  {
   "cell_type": "markdown",
   "id": "5475c7c2",
   "metadata": {},
   "source": [
    "H0 : conversion in group A == conversion in group B   \n",
    "H1 : conversion in group A != conversion in group B"
   ]
  },
  {
   "cell_type": "markdown",
   "id": "770ae08a",
   "metadata": {},
   "source": [
    "to fined out, what kind of method where using, I have to create the filtered table."
   ]
  },
  {
   "cell_type": "code",
   "execution_count": 215,
   "id": "18860182",
   "metadata": {},
   "outputs": [],
   "source": [
    "visitor_fil = orders_df.groupby('visitorId', as_index = False).agg({'transactionId':'nunique'})\n",
    "visitor_fil = visitor_fil[visitor_fil['transactionId'] == 1]\n",
    "fil = visitor_fil['visitorId']\n",
    "df_fil = orders_df[orders_df['visitorId'].isin(fil)]"
   ]
  },
  {
   "cell_type": "code",
   "execution_count": 219,
   "id": "6cdf5e08",
   "metadata": {},
   "outputs": [],
   "source": [
    "fil_a = df_fil[df_fil['group'] == 'A']\n",
    "fil_b = df_fil[df_fil['group'] == 'B']\n",
    "\n",
    "order_by_day_a_fil = fil_a.groupby('date', as_index = False).agg({'transactionId':'nunique'})\n",
    "order_by_day_b_fil = fil_b.groupby('date', as_index = False).agg({'transactionId':'nunique'})\n",
    "\n",
    "cum_rev_a_fil = fil_a.groupby('date', as_index = False).agg({'revenue':'sum'})\n",
    "cum_rev_b_fil = fil_b.groupby('date', as_index = False).agg({'revenue':'sum'})\n",
    "\n",
    "cum_rev_a_fil['cumu_rev'] = cum_rev_a_fil['revenue'].cumsum()\n",
    "cum_rev_b_fil['cumu_rev'] = cum_rev_b_fil['revenue'].cumsum()\n",
    "\n",
    "cum_avg_order_a_fil = cum_rev_a_fil.merge(order_by_day_a_fil, on = 'date', how = 'left')\n",
    "cum_avg_order_b_fil = cum_rev_b_fil.merge(order_by_day_b_fil, on = 'date', how = 'left')\n",
    "\n",
    "cum_avg_order_a_fil['cum_num_order'] = cum_avg_order_a_fil['transactionId'].cumsum()\n",
    "cum_avg_order_a_fil['cum_avg_order'] = cum_avg_order_a_fil['cumu_rev'] / cum_avg_order_a_fil['cum_num_order']\n",
    "\n",
    "cum_avg_order_b_fil['cum_num_order'] = cum_avg_order_b_fil['transactionId'].cumsum()\n",
    "cum_avg_order_b_fil['cum_avg_order'] = cum_avg_order_b_fil['cumu_rev'] / cum_avg_order_b_fil['cum_num_order']\n",
    "\n",
    "group_a_fil = cum_avg_order_a_fil.merge(visits_df_a, on = 'date', how = 'left')\n",
    "group_b_fil = cum_avg_order_b_fil.merge(visits_df_b, on = 'date', how = 'left')\n",
    "\n",
    "group_a_fil['cum_visits'] = group_a_fil['visits'].cumsum()\n",
    "group_b_fil['cum_visits'] = group_b_fil['visits'].cumsum()\n",
    "\n",
    "group_a_fil['conversion_rate'] = group_a_fil['cum_num_order'] / group_a_fil['cum_visits']\n",
    "group_b_fil['conversion_rate'] = group_b_fil['cum_num_order'] / group_b_fil['cum_visits']"
   ]
  },
  {
   "cell_type": "code",
   "execution_count": 220,
   "id": "fb24bb63",
   "metadata": {},
   "outputs": [
    {
     "data": {
      "image/png": "[encoded data removed]",
      "text/plain": [
       "<Figure size 1080x432 with 1 Axes>"
      ]
     },
     "metadata": {
      "needs_background": "light"
     },
     "output_type": "display_data"
    }
   ],
   "source": [
    "plt.hist(group_a_fil['conversion_rate'], alpha=0.5, label='A')\n",
    "plt.hist(group_b_fil['conversion_rate'], alpha=0.5, label='B')\n",
    "plt.legend(loc='upper right')\n",
    "plt.xlabel('percentage of conversion')\n",
    "plt.ylabel('number of days')\n",
    "plt.title('conversion rate')\n",
    "plt.show()"
   ]
  },
  {
   "cell_type": "markdown",
   "id": "a81a342e",
   "metadata": {},
   "source": [
    "Mannwhitneyu"
   ]
  },
  {
   "cell_type": "code",
   "execution_count": 192,
   "id": "3c511c2d",
   "metadata": {},
   "outputs": [
    {
     "name": "stdout",
     "output_type": "stream",
     "text": [
      "0.009388750157649953\n",
      "Reject H0\n",
      "0.183\n"
     ]
    }
   ],
   "source": [
    "testing_average(sample_a_filtered,sample_b_filtered,alpha=0.05)"
   ]
  },
  {
   "cell_type": "markdown",
   "id": "3d5fd66f",
   "metadata": {},
   "source": [
    "Just like before, it still seems that there is a Statistical significance of the difference in conversion, and now group B has  18% higher conversion rate then group A."
   ]
  },
  {
   "cell_type": "markdown",
   "id": "64ce2f18",
   "metadata": {},
   "source": [
    "## Statistical significance of the difference in average order size - filtered data "
   ]
  },
  {
   "cell_type": "markdown",
   "id": "471e94eb",
   "metadata": {},
   "source": [
    "Lets create a filter for order size, every order above 400$ is abnormal."
   ]
  },
  {
   "cell_type": "code",
   "execution_count": 222,
   "id": "fd83b5ae",
   "metadata": {},
   "outputs": [],
   "source": [
    "order_size_anomaly = orders_df[orders_df['revenue'] > 415]['visitorId']"
   ]
  },
  {
   "cell_type": "code",
   "execution_count": 223,
   "id": "ce00d685",
   "metadata": {},
   "outputs": [],
   "source": [
    "avg_orders_revenue_a_filtered = orders_a[np.logical_not(orders_a['visitorId'].isin(order_size_anomaly))]['revenue']\n",
    "avg_orders_revenue_b_filtered = orders_b[np.logical_not(orders_b['visitorId'].isin(order_size_anomaly))]['revenue']"
   ]
  },
  {
   "cell_type": "markdown",
   "id": "85e39f9a",
   "metadata": {},
   "source": [
    "Using the function from before, I'm going to see if there is statistical significance.  \n",
    "\n",
    "H0: average order size in group A == average order size in group B.  \n",
    "H1: average order size in group A != average order size in group B"
   ]
  },
  {
   "cell_type": "markdown",
   "id": "a3256560",
   "metadata": {},
   "source": [
    "lets see what method I'm going to use"
   ]
  },
  {
   "cell_type": "code",
   "execution_count": 224,
   "id": "9992b6b7",
   "metadata": {},
   "outputs": [
    {
     "data": {
      "image/png": "[encoded data removed]",
      "text/plain": [
       "<Figure size 1080x432 with 1 Axes>"
      ]
     },
     "metadata": {
      "needs_background": "light"
     },
     "output_type": "display_data"
    }
   ],
   "source": [
    "plt.hist(avg_orders_revenue_a_filtered, alpha=0.5, label='A')\n",
    "plt.hist(avg_orders_revenue_b_filtered, alpha=0.5, label='B')\n",
    "plt.legend(loc='upper right')\n",
    "plt.xlabel('price')\n",
    "plt.ylabel('number of days')\n",
    "plt.title('avrege order revenue')\n",
    "plt.show()"
   ]
  },
  {
   "cell_type": "markdown",
   "id": "8ffcb617",
   "metadata": {},
   "source": [
    "Mannwhitneyu for the win"
   ]
  },
  {
   "cell_type": "code",
   "execution_count": 225,
   "id": "63ba056d",
   "metadata": {},
   "outputs": [
    {
     "name": "stdout",
     "output_type": "stream",
     "text": [
      "0.7757659942554258\n",
      "Fail to Reject H0\n",
      "-0.052\n"
     ]
    }
   ],
   "source": [
    "testing_average(avg_orders_revenue_a_filtered,avg_orders_revenue_b_filtered,alpha=0.05)"
   ]
  },
  {
   "cell_type": "markdown",
   "id": "33f704e8",
   "metadata": {},
   "source": [
    "Just like before we see there's no statistical significance of the difference in average order size, but now we see that the average order size of group B is 5.2% smaller then group A."
   ]
  },
  {
   "cell_type": "markdown",
   "id": "0261c799",
   "metadata": {},
   "source": [
    "# Summary"
   ]
  },
  {
   "cell_type": "markdown",
   "id": "76af53b3",
   "metadata": {},
   "source": [
    "1. In the pre-process stage:\n",
    "    1. I saw that the date and group columns in the orders and visitors tables needed to have their data type changed.  \n",
    "       First I changed the data type of the date column, in both orders and visits tables, to datetime.    \n",
    "       then I changed the group data type in to categories.  \n",
    "    1. I saw that I needed to split the columns and data of hypothesis table.  \n",
    "       Using the sep in the read_csv(), I separated the columns in the hypothesis table in to a readable format.  \n",
    "    1. I saw that the hypothesis table contained upper case letters.  \n",
    "       I changed the columns names to lower case using columns.str.lower().\n",
    "    1. There were users that were in groups A and B.  \n",
    "       To identify them I created a table that groups the number of unique groups by visitorsId.  \n",
    "       Taking the two_groups_check I created before, I removed all the visitors that are in both groups.\n",
    "       Then I left merged the table with the orders_df column, so that the orders table will get rid of all the unwanted data.  \n",
    "1. In the prioritizing stag:\n",
    "    1. I created an ICE column in the hypothesis table, by multiplying impact with confidence,\n",
    "       and dividing the result by efforts.  \n",
    "    1. To find the RICE of a hypothesis, is the same as finding the ICE,  \n",
    "       the difference is that we also multiply the ICE with reach column.\n",
    "1. In the A/B test analysis:\n",
    "    1. I graphed cumulative revenue by group, by dividing the orders table to two tables for each group.  \n",
    "       From each of the new tables, I grouped the sum of revenue by day.\n",
    "       Then using cumsum(), I created a column that contains the cumulative revenue.  \n",
    "       Using the new columns, I plotted the cumulative revenue graphs.  \n",
    "    1. I found the cumulative average purchase size,  \n",
    "       by grouping the number of orders form the order_df table by day,  \n",
    "       then merging the new tables with the table from the privies task.\n",
    "       After that, I created a column that contains the cumulative number of orders.  \n",
    "       Then, by dividing the cumulative revenue by the cumulative number of orders, I got the cumulative average order size.\n",
    "       Then I plotted the graphs.  \n",
    "    1. To fined the relative difference in average order size, first I had to merge the two tables together.  \n",
    "       After merging the tables, I created a graph that shows the relative difference in cumulative average order size.  \n",
    "       I did that by dividing the cumulative average order size of group B by A's cumulative average order size.  \n",
    "    1. I calculated each group's conversion rate from visits to orders each day.  \n",
    "       I divided the visits_df column to groups, and merged the new tables with the groups tables.  \n",
    "       After merging the new columns, I created the conversion column by dividing the number of orders a day,  \n",
    "       by the number of visits per day.  \n",
    "    1. I created scatter plot that shows the number of orders per user.  \n",
    "       I grouped the number of orders by visitorId to do so.  \n",
    "    1. Using percentiles, I saw if the visitors that made more then 1 order took a big percentage of the hole population.  \n",
    "    1. I found the order price, by creating a scatter plot, that  gave me a better idea of the situation.  \n",
    "    1. Using percentiles, I saw what prices are considered abnormal for an average order.  \n",
    "    1. I wanted to see if there is statistical significance of difference in conversion in groups using raw data.  \n",
    "       To do that, first I created two samples that contain a list of the number of orders for each user in each group,  \n",
    "       and zeros for users how did not order anything.  \n",
    "       Then I created a function that checked if the samples have a normal distribution,  \n",
    "       and according to the result I passed the samples in either the Mannwhitneyu method,  \n",
    "       or in the ttest method.  \n",
    "       By applying this function, I saw if there is a Statistical significance of the difference in conversion.\n",
    "    1. I found the Statistical significance of the difference in average order size in the raw data,  \n",
    "       by doing the same thing as before, but for revenue per order.  \n",
    "       Using the function from before, I got to see if there is statistical significance.\n",
    "    1. I found if there is a Statistical significance of the difference in conversion, but this time I used filtered data.  \n",
    "       This was so I could see how much the abnormalities skewed the data.  \n",
    "       To create the filtered data, first I had to define the anomalies. According to the scatter plot and the percentile,  \n",
    "       I defined every thing above one order, as an anomaly.\n",
    "    1. I created a filtered data for order size, and determined every order above 400$ as abnormal, and repeated the process."
   ]
  },
  {
   "cell_type": "markdown",
   "id": "313ea357",
   "metadata": {},
   "source": [
    "## Conclusion"
   ]
  },
  {
   "cell_type": "markdown",
   "id": "5c44f0d6",
   "metadata": {},
   "source": [
    "From what I can see from the data, it seems that the order size did not change to much between the groups.  \n",
    "When it came to conversion id did seem that group B has the advantage on group A.  \n",
    "because of this fact, I think that the should end and declare group B more optimal."
   ]
  }
 ],
 "metadata": {
  "kernelspec": {
   "display_name": "Python 3 (ipykernel)",
   "language": "python",
   "name": "python3"
  },
  "language_info": {
   "codemirror_mode": {
    "name": "ipython",
    "version": 3
   },
   "file_extension": ".py",
   "mimetype": "text/x-python",
   "name": "python",
   "nbconvert_exporter": "python",
   "pygments_lexer": "ipython3",
   "version": "3.9.7"
  },
  "toc": {
   "base_numbering": 1,
   "nav_menu": {},
   "number_sections": true,
   "sideBar": true,
   "skip_h1_title": false,
   "title_cell": "Table of Contents",
   "title_sidebar": "Contents",
   "toc_cell": false,
   "toc_position": {
    "height": "calc(100% - 180px)",
    "left": "10px",
    "top": "150px",
    "width": "346.825px"
   },
   "toc_section_display": true,
   "toc_window_display": true
  },
  "varInspector": {
   "cols": {
    "lenName": 16,
    "lenType": 16,
    "lenVar": 40
   },
   "kernels_config": {
    "python": {
     "delete_cmd_postfix": "",
     "delete_cmd_prefix": "del ",
     "library": "var_list.py",
     "varRefreshCmd": "print(var_dic_list())"
    },
    "r": {
     "delete_cmd_postfix": ") ",
     "delete_cmd_prefix": "rm(",
     "library": "var_list.r",
     "varRefreshCmd": "cat(var_dic_list()) "
    }
   },
   "types_to_exclude": [
    "module",
    "function",
    "builtin_function_or_method",
    "instance",
    "_Feature"
   ],
   "window_display": false
  }
 },
 "nbformat": 4,
 "nbformat_minor": 5
}
